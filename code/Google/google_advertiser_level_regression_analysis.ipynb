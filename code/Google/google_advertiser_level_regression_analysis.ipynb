{
 "cells": [
  {
   "cell_type": "code",
   "execution_count": null,
   "id": "12d9e84a",
   "metadata": {},
   "outputs": [],
   "source": [
    "import os\n",
    "import numpy as np\n",
    "import pandas as pd\n",
    "from collections import Counter\n",
    "import matplotlib.pyplot as plt\n",
    "import statsmodels.formula.api as smf\n",
    "from stargazer.stargazer import Stargazer\n",
    "from IPython.display import display, HTML"
   ]
  },
  {
   "cell_type": "markdown",
   "id": "e0a841cc",
   "metadata": {},
   "source": [
    "## Create Regression table"
   ]
  },
  {
   "cell_type": "code",
   "execution_count": null,
   "id": "4323aae9",
   "metadata": {},
   "outputs": [],
   "source": [
    "source_path = '' # local data source path"
   ]
  },
  {
   "cell_type": "code",
   "execution_count": null,
   "id": "50a1550d",
   "metadata": {},
   "outputs": [],
   "source": [
    "'''\n",
    "Import the var table with sets info\n",
    "'''\n",
    "var = pd.read_csv(os.path.join(source_path, 'g2022_adid_var.csv.gz'))"
   ]
  },
  {
   "cell_type": "code",
   "execution_count": null,
   "id": "aeb369f8",
   "metadata": {},
   "outputs": [],
   "source": [
    "'''\n",
    "Filter for Gen election period and Set 3\n",
    "''' \n",
    "condition = (var.date_range_end >= '2022-09-01') & (var.date_range_start <= '2022-11-30')\n",
    "var = var[condition]\n",
    "\n",
    "var = var[var.set3 == 1]"
   ]
  },
  {
   "cell_type": "code",
   "execution_count": null,
   "id": "fe5421bb",
   "metadata": {},
   "outputs": [],
   "source": [
    "print(var.shape)\n",
    "var.columns"
   ]
  },
  {
   "cell_type": "markdown",
   "id": "376e206e",
   "metadata": {},
   "source": [
    "### Import pairwise similarity results"
   ]
  },
  {
   "cell_type": "code",
   "execution_count": null,
   "id": "eb3b3c39",
   "metadata": {},
   "outputs": [],
   "source": [
    "'''\n",
    "Set 3 advertiser-media level General election period data -- candidates\n",
    "'''\n",
    "df_cand = pd.read_csv('../output_data/g2022_set3_gen_elect_cand_media_level_average_pairwise_similarity.csv')\n",
    "\n",
    "'''\n",
    "Set 3 advertiser-media-race level General election period data -- non-candidate campaign sponsors\n",
    "\n",
    "'''\n",
    "df_noncand = pd.read_csv('../output_data/g2022_set3_gen_elect_noncandidate_advertiser_racefocus_media_level_average_pairwise_similarity.csv') "
   ]
  },
  {
   "cell_type": "code",
   "execution_count": null,
   "id": "0df6fe94",
   "metadata": {},
   "outputs": [],
   "source": [
    "print(df_noncand.columns)\n",
    "df_noncand.head(2)"
   ]
  },
  {
   "cell_type": "code",
   "execution_count": null,
   "id": "34005619",
   "metadata": {},
   "outputs": [],
   "source": [
    "all_sponsor_ids = df_cand.advertiser_id.tolist() + df_noncand.advertiser_id.tolist()"
   ]
  },
  {
   "cell_type": "code",
   "execution_count": null,
   "id": "59ef4fa5",
   "metadata": {},
   "outputs": [],
   "source": [
    "var = var[var.advertiser_id.isin(all_sponsor_ids)]"
   ]
  },
  {
   "cell_type": "code",
   "execution_count": null,
   "id": "95504642",
   "metadata": {},
   "outputs": [],
   "source": [
    "'''\n",
    "Import \"text\" table to get \"ad_type\"\n",
    "\n",
    "'''\n",
    "text_table_path = os.path.join(source_path, 'g2022_adid_text.csv.gz')\n",
    "text = pd.read_csv(text_table_path, usecols=['ad_id', 'ad_type',])"
   ]
  },
  {
   "cell_type": "code",
   "execution_count": null,
   "id": "a1fb0cf6",
   "metadata": {},
   "outputs": [],
   "source": [
    "var = var.merge(text, how='left', on='ad_id').drop_duplicates()"
   ]
  },
  {
   "cell_type": "markdown",
   "id": "61f3fc2e",
   "metadata": {},
   "source": [
    "### Process/explore variables"
   ]
  },
  {
   "cell_type": "markdown",
   "id": "2afe5b13",
   "metadata": {},
   "source": [
    "**Party variables**"
   ]
  },
  {
   "cell_type": "code",
   "execution_count": null,
   "id": "b92b22e5",
   "metadata": {},
   "outputs": [],
   "source": [
    "'''\n",
    "Count percentage of sponsors we need to infer party affiliation\n",
    "'''\n",
    "print(var[pd.isna(var.party_all)].shape[0]/var.shape[0])\n",
    "\n",
    "len(var[pd.isna(var.party_all)].groupby('advertiser_id')[['party_all']].first().reset_index().advertiser_id.unique())/len(var.advertiser_id.unique())"
   ]
  },
  {
   "cell_type": "code",
   "execution_count": null,
   "id": "e59fbcb9",
   "metadata": {},
   "outputs": [],
   "source": [
    "var['party_pdid_opt'] = np.where(pd.isna(var.party_all), var.party_all_clf, var.party_all)"
   ]
  },
  {
   "cell_type": "markdown",
   "id": "4e8cd43f",
   "metadata": {},
   "source": [
    "**Race competitiveness**: \n",
    "\n",
    "SD: safe Dem\n",
    "DF: Dem favored\n",
    "LD: Lean Dem\n",
    "C: Too-close-to-call\n",
    "LR: Lean Republican\n",
    "RF: Republican favored\n",
    "SR: Safe Republican\n",
    " \n",
    "The SD and SR races are coded 1 in house2 (least competitive)\n",
    "DF and RF are coded 2\n",
    "LD and LR are coded 3\n",
    "C is coded 4 (most competitive)"
   ]
  },
  {
   "cell_type": "code",
   "execution_count": null,
   "id": "eb5d6d35",
   "metadata": {},
   "outputs": [],
   "source": [
    "# load race competitiveness index file \n",
    "# For access to this data, please contact the authors\n",
    "race = pd.read_csv('../../race_competitiveness.csv')"
   ]
  },
  {
   "cell_type": "code",
   "execution_count": null,
   "id": "0f5b783f",
   "metadata": {},
   "outputs": [],
   "source": [
    "var = var.merge(race[['race_code','race_competitiveness']], how='left', left_on='race_of_focus', right_on='race_code')"
   ]
  },
  {
   "cell_type": "markdown",
   "id": "98563964",
   "metadata": {},
   "source": [
    "**campaign resources**"
   ]
  },
  {
   "cell_type": "code",
   "execution_count": null,
   "id": "f2859da6",
   "metadata": {},
   "outputs": [],
   "source": [
    "# For access to this data, please contact the authors\n",
    "cost = pd.read_csv('../input_data/campaign_resource_gg2022.csv')"
   ]
  },
  {
   "cell_type": "code",
   "execution_count": null,
   "id": "b6929f8d",
   "metadata": {},
   "outputs": [],
   "source": [
    "'''\n",
    "Merge to candidate and non-candidate tables\n",
    "'''\n",
    "df_cand = df_cand.merge(cost[['advertiser_id', 'estcost']], on='advertiser_id', how='left')\n",
    "df_noncand = df_noncand.merge(cost[['advertiser_id', 'estcost']], on='advertiser_id', how='left')"
   ]
  },
  {
   "cell_type": "code",
   "execution_count": null,
   "id": "b52b3ec2",
   "metadata": {},
   "outputs": [],
   "source": [
    "'''\n",
    "Magnitude of estimated cost is too large and nonlinear distribution --> no effects in models\n",
    "Use logs\n",
    "'''\n",
    "\n",
    "df_cand['estcost'] = np.log(df_cand.estcost)\n",
    "df_noncand['estcost'] = np.log(df_cand.estcost)"
   ]
  },
  {
   "cell_type": "markdown",
   "id": "1eb82298",
   "metadata": {},
   "source": [
    "### Select regression variables"
   ]
  },
  {
   "cell_type": "code",
   "execution_count": null,
   "id": "698ca4d0",
   "metadata": {},
   "outputs": [],
   "source": [
    "# Select variables for regression\n",
    "cols = ['advertiser_id', 'ad_type', 'race_of_focus', 'race_competitiveness', 'party_pdid_opt',\n",
    "        'wmp_spontype', 'wmp_sen', 'wmp_hse']"
   ]
  },
  {
   "cell_type": "code",
   "execution_count": null,
   "id": "8605c3c0",
   "metadata": {},
   "outputs": [],
   "source": [
    "data = var[cols]"
   ]
  },
  {
   "cell_type": "code",
   "execution_count": null,
   "id": "38c2d912",
   "metadata": {},
   "outputs": [],
   "source": [
    "data.head(2)"
   ]
  },
  {
   "cell_type": "markdown",
   "id": "1bd86433",
   "metadata": {},
   "source": [
    "### Process regression variables"
   ]
  },
  {
   "cell_type": "code",
   "execution_count": null,
   "id": "67714a5a",
   "metadata": {},
   "outputs": [],
   "source": [
    "data.wmp_spontype.unique()"
   ]
  },
  {
   "cell_type": "code",
   "execution_count": null,
   "id": "79021c4e",
   "metadata": {
    "scrolled": true
   },
   "outputs": [],
   "source": [
    "data['image'] = np.where((data.ad_type == 'VIDEO'), 1, 0)\n",
    "data['video'] = np.where((data.ad_type == 'IMAGE'), 1, 0)\n",
    "\n",
    "data['party'] = np.where((data.wmp_spontype == 'party') | (data.wmp_spontype == 'party national'), 1, 0)\n",
    "data['group'] = np.where(data.wmp_spontype == 'group', 1, 0)\n",
    "data['government'] = np.where(data.wmp_spontype.isin(['government agency', 'government official']), 1, 0)\n",
    "\n",
    "data['Democratic'] = np.where(data.party_pdid_opt == 'DEM', 1, 0) \n",
    "data['third_party'] = np.where(data.party_pdid_opt == 'OTHER', 1, 0) \n",
    "\n",
    "data.loc[:, 'race_of_focus'] = data.race_of_focus.fillna('')\n",
    "data['senate'] = np.where((data.wmp_sen == 1) | (data.race_of_focus.str.endswith('S0')), 1, 0)"
   ]
  },
  {
   "cell_type": "code",
   "execution_count": null,
   "id": "7f4c5139",
   "metadata": {},
   "outputs": [],
   "source": [
    "# aggregate at the advertiser level\n",
    "agg = data.groupby(['advertiser_id', 'ad_type']).mean(numeric_only=True).reset_index()"
   ]
  },
  {
   "cell_type": "markdown",
   "id": "929cf986",
   "metadata": {},
   "source": [
    "### Candidates regression table"
   ]
  },
  {
   "cell_type": "code",
   "execution_count": null,
   "id": "9e88c7d7",
   "metadata": {},
   "outputs": [],
   "source": [
    "df_cand = df_cand.merge(agg, on=['advertiser_id', 'ad_type'], how='left')"
   ]
  },
  {
   "cell_type": "code",
   "execution_count": null,
   "id": "87e0dd68",
   "metadata": {},
   "outputs": [],
   "source": [
    "df_cand.rename(columns={'avg': 'AverageSimilarity'}, inplace=True)"
   ]
  },
  {
   "cell_type": "code",
   "execution_count": null,
   "id": "e9822f35",
   "metadata": {},
   "outputs": [],
   "source": [
    "df_cand['candidate'] = 1"
   ]
  },
  {
   "cell_type": "code",
   "execution_count": null,
   "id": "7bae526a",
   "metadata": {},
   "outputs": [],
   "source": [
    "df_cand.columns"
   ]
  },
  {
   "cell_type": "code",
   "execution_count": null,
   "id": "0457d045",
   "metadata": {},
   "outputs": [],
   "source": [
    "df_cand.shape"
   ]
  },
  {
   "cell_type": "markdown",
   "id": "ae2ca041",
   "metadata": {},
   "source": [
    "### Non-candidates regression table"
   ]
  },
  {
   "cell_type": "code",
   "execution_count": null,
   "id": "b9f78ba1",
   "metadata": {},
   "outputs": [],
   "source": [
    "'''\n",
    "Get variables for regression table for non-candidate sponsors (grouped by race of focus)\n",
    "\n",
    "Aggregate at advertiser_id, ad_type, race_of_focus level\n",
    "'''\n",
    " \n",
    "agg2 = data.groupby(['advertiser_id', 'ad_type', 'race_of_focus']).mean(numeric_only=True).reset_index()"
   ]
  },
  {
   "cell_type": "code",
   "execution_count": null,
   "id": "731e4798",
   "metadata": {},
   "outputs": [],
   "source": [
    "df_noncand = df_noncand.merge(agg2, on=['advertiser_id', 'ad_type', 'race_of_focus'], how='left')\n",
    "\n",
    "df_noncand.rename(columns={'avg': 'AverageSimilarity'}, inplace=True)"
   ]
  },
  {
   "cell_type": "code",
   "execution_count": null,
   "id": "f537e4fa",
   "metadata": {},
   "outputs": [],
   "source": [
    "df_noncand['candidate'] = 0"
   ]
  },
  {
   "cell_type": "code",
   "execution_count": null,
   "id": "870eb97f",
   "metadata": {},
   "outputs": [],
   "source": [
    "df_noncand.columns"
   ]
  },
  {
   "cell_type": "code",
   "execution_count": null,
   "id": "5631b9b7",
   "metadata": {},
   "outputs": [],
   "source": [
    "df_noncand.shape"
   ]
  },
  {
   "cell_type": "markdown",
   "id": "134a5d23",
   "metadata": {},
   "source": [
    "### Combine candidates only and non-candidates sponsors grouped by race of focus"
   ]
  },
  {
   "cell_type": "code",
   "execution_count": null,
   "id": "362dfdcc",
   "metadata": {},
   "outputs": [],
   "source": [
    "df = pd.concat([df_cand, df_noncand.drop(\"race_of_focus\", axis=1)])"
   ]
  },
  {
   "cell_type": "code",
   "execution_count": null,
   "id": "29a150ba",
   "metadata": {},
   "outputs": [],
   "source": [
    "# 2022 general election cycle: Sept ~ Nov 2022\n",
    "df.to_csv('../input_data/gg_regression_table_for_descriptives.csv', index=False)"
   ]
  },
  {
   "cell_type": "code",
   "execution_count": null,
   "id": "a96721cc",
   "metadata": {},
   "outputs": [],
   "source": [
    "df.columns"
   ]
  },
  {
   "cell_type": "markdown",
   "id": "63694cae",
   "metadata": {},
   "source": [
    "## Import created regression table directly"
   ]
  },
  {
   "cell_type": "code",
   "execution_count": null,
   "id": "26990a5b",
   "metadata": {},
   "outputs": [],
   "source": [
    "df = pd.read_csv('../input_data/gg_regression_table_for_descriptives.csv')"
   ]
  },
  {
   "cell_type": "code",
   "execution_count": null,
   "id": "32ff2e9a",
   "metadata": {},
   "outputs": [],
   "source": [
    "df_cand = df[df.candidate == 1]"
   ]
  },
  {
   "cell_type": "markdown",
   "id": "047850d0",
   "metadata": {},
   "source": [
    "### Subset of sponsors who invested in TV ads"
   ]
  },
  {
   "cell_type": "code",
   "execution_count": null,
   "id": "9f59d350",
   "metadata": {},
   "outputs": [],
   "source": [
    "df.rename(columns={'estcost': 'log_estimated_cost'}, inplace=True)"
   ]
  },
  {
   "cell_type": "code",
   "execution_count": null,
   "id": "1eee8e4c",
   "metadata": {},
   "outputs": [],
   "source": [
    "df_cost = df[~pd.isna(df.log_estimated_cost)]"
   ]
  },
  {
   "cell_type": "markdown",
   "id": "5127c30e",
   "metadata": {},
   "source": [
    "## Create DV (Sophistication index)"
   ]
  },
  {
   "cell_type": "code",
   "execution_count": null,
   "id": "7b2e530a",
   "metadata": {},
   "outputs": [],
   "source": [
    "def create_sophistication_index(input_df):\n",
    "    max_ = input_df.num_unique.max()\n",
    "    min_ = input_df.num_unique.min()\n",
    "    input_df['num_unique_normalized'] = (input_df.num_unique - min_)/(max_ - min_)\n",
    "    input_df['sophistication_index'] = input_df['num_unique_normalized'] * (1 - input_df.AverageSimilarity)\n",
    "    return input_df"
   ]
  },
  {
   "cell_type": "code",
   "execution_count": null,
   "id": "7ea1f5cb",
   "metadata": {
    "scrolled": true
   },
   "outputs": [],
   "source": [
    "df = create_sophistication_index(df)\n",
    "df_cand = create_sophistication_index(df_cand)"
   ]
  },
  {
   "cell_type": "code",
   "execution_count": null,
   "id": "87eecd4c",
   "metadata": {
    "scrolled": true
   },
   "outputs": [],
   "source": [
    "df_cost = create_sophistication_index(df_cost)\n",
    "df_cand_cost = create_sophistication_index(df_cand_cost)"
   ]
  },
  {
   "cell_type": "markdown",
   "id": "07cf2224",
   "metadata": {},
   "source": [
    "## Regression"
   ]
  },
  {
   "cell_type": "markdown",
   "id": "03c06fe8",
   "metadata": {},
   "source": [
    "### DV: sophistication index"
   ]
  },
  {
   "cell_type": "code",
   "execution_count": null,
   "id": "4d7d5684",
   "metadata": {},
   "outputs": [],
   "source": [
    "import statsmodels.api as sm"
   ]
  },
  {
   "cell_type": "code",
   "execution_count": null,
   "id": "a417ccd4",
   "metadata": {
    "scrolled": true
   },
   "outputs": [],
   "source": [
    "df_cand = df_cand.drop_duplicates(subset=['advertiser_id', 'ad_type', 'sophistication_index'])"
   ]
  },
  {
   "cell_type": "code",
   "execution_count": null,
   "id": "1df43a3d",
   "metadata": {},
   "outputs": [],
   "source": [
    "rename_labels = {'senate': 'Senate', 'race_competitiveness': 'Race competitiveness', \n",
    "                  'third_party': 'Third party', \n",
    "                 'log_estimated_cost': 'TV ad spending (logged)', \n",
    "                 'party': 'Party', 'group': 'Group', \n",
    "                 'government': 'Other sponsor type',\n",
    "                 'image': 'Image', 'video': 'Video',}"
   ]
  },
  {
   "cell_type": "code",
   "execution_count": null,
   "id": "a2bb8833",
   "metadata": {},
   "outputs": [],
   "source": [
    "# for house/senate candidates only \n",
    "form1 = \"sophistication_index ~ senate + race_competitiveness \\\n",
    "        + Democratic + third_party + video + image\"\n",
    "\n",
    "form2 = \"sophistication_index ~ senate + race_competitiveness \\\n",
    "        + Democratic + third_party + log_estimated_cost \\\n",
    "        + video + image\"\n",
    "\n",
    "model1 = smf.ols(formula=form1, data=df_cand).fit()\n",
    "model2 = smf.ols(formula=form2, data=df_cand_cost).fit()"
   ]
  },
  {
   "cell_type": "code",
   "execution_count": null,
   "id": "ea39b282",
   "metadata": {
    "scrolled": true
   },
   "outputs": [],
   "source": [
    "# DV: sophistication index, Candidates Only\n",
    "'''\n",
    "Current display is general election period. \n",
    "'''\n",
    "cov_order = ['senate', 'race_competitiveness',\n",
    "             'Democratic', 'third_party', 'log_estimated_cost', \n",
    "             'video', 'image', 'Intercept'] \n",
    "\n",
    "stargazer = Stargazer([model1, model2])\n",
    "stargazer.covariate_order(cov_order)\n",
    "stargazer.rename_covariates(rename_labels)\n",
    "display(HTML(stargazer.render_html()))"
   ]
  },
  {
   "cell_type": "code",
   "execution_count": null,
   "id": "1f3cbed8",
   "metadata": {},
   "outputs": [],
   "source": [
    "# for all sponsors, non-campaign sponsors grouped by race of focus\n",
    "form3 = \"sophistication_index ~ senate + party + group + government + race_competitiveness \\\n",
    "        + Democratic + third_party + video + image\"\n",
    "\n",
    "form4 = \"sophistication_index ~ senate + party + group + government + race_competitiveness \\\n",
    "        + Democratic + third_party + log_estimated_cost \\\n",
    "        + video + image\"\n",
    "\n",
    "model3 = smf.ols(formula=form3, data=df).fit()\n",
    "model4 = smf.ols(formula=form4, data=df_cost).fit()"
   ]
  },
  {
   "cell_type": "code",
   "execution_count": null,
   "id": "969061a0",
   "metadata": {
    "scrolled": true
   },
   "outputs": [],
   "source": [
    "# DV: sophistication index, Candidates + non-candidates grouped by race of focus\n",
    "'''\n",
    "Current display is general election period\n",
    "'''\n",
    "\n",
    "cov_order = ['senate', 'party', 'group', 'government', 'race_competitiveness',\n",
    "             'Democratic', 'third_party', 'log_estimated_cost', \n",
    "             'video', 'image', 'Intercept'] \n",
    "\n",
    "stargazer = Stargazer([model3, model4])\n",
    "stargazer.covariate_order(cov_order)\n",
    "stargazer.rename_covariates(rename_labels)\n",
    "display(HTML(stargazer.render_html()))"
   ]
  },
  {
   "cell_type": "markdown",
   "id": "0faba66f",
   "metadata": {},
   "source": [
    "### Main effects plots"
   ]
  },
  {
   "cell_type": "code",
   "execution_count": null,
   "id": "3fe2e061",
   "metadata": {},
   "outputs": [],
   "source": [
    "import matplotlib.pyplot as plt\n",
    "import seaborn as sns\n",
    "import matplotlib.lines as mlines"
   ]
  },
  {
   "cell_type": "code",
   "execution_count": null,
   "id": "70fbd466",
   "metadata": {},
   "outputs": [],
   "source": [
    "def plot_coefficents(m1, m2, offset=-0.15):\n",
    "    '''\n",
    "    Generate a coefficients plot\n",
    "    \n",
    "    Inputs: \n",
    "          m1, m2: two OLS regression models\n",
    "          offset: the offset on the axes between the coeffecients of the two models \n",
    "    '''\n",
    "    coefficients1 = m1.params\n",
    "    conf1 = m1.conf_int()\n",
    "    conf1['coef'] = coefficients1\n",
    "    conf1.columns = ['lower', 'upper', 'coef']\n",
    "    conf1['model'] = 'Model 1'\n",
    "\n",
    "    coefficients2 = m2.params\n",
    "    conf2 = m2.conf_int()\n",
    "    conf2['coef'] = coefficients2\n",
    "    conf2.columns = ['lower', 'upper', 'coef']\n",
    "    conf2['model'] = 'Model 2'\n",
    "    \n",
    "    conf12 = pd.concat([conf1, conf2])\n",
    "    conf12.rename(index=rename_labels, inplace=True)\n",
    "    conf12 = conf12[conf12.index != 'Intercept']\n",
    "    \n",
    "    # Add offset to separate the models\n",
    "    conf12['y_offset'] = conf12.groupby(conf12.index).cumcount() * offset\n",
    "    \n",
    "    labels = list(conf12.index.unique()[::-1])\n",
    "\n",
    "    y_steps = {}\n",
    "    for i, label in enumerate(labels):\n",
    "        y_steps[label] = i\n",
    "\n",
    "    conf12['y_step'] = conf12.index.map(y_steps)\n",
    "    \n",
    "    # Plotting\n",
    "    plt.figure(figsize=(12, 8))\n",
    "    fig, ax = plt.subplots()\n",
    "\n",
    "    colors=['black', 'gray']\n",
    "\n",
    "    for i, model in enumerate(conf12.model.unique()):\n",
    "        curr_coef = conf12[conf12.model == model]\n",
    "        ax.errorbar(y=curr_coef['y_offset'] + curr_coef['y_step'], \n",
    "                     x=curr_coef['coef'], \n",
    "                     xerr=(curr_coef['upper'] - curr_coef['lower']) / 2, \n",
    "                     fmt='o', \n",
    "                     markersize = 5,\n",
    "                     color=colors[i])\n",
    "\n",
    "\n",
    "\n",
    "    # Create legend\n",
    "    handle1 = mlines.Line2D([], [], color='black', linestyle='-', marker='o', markersize=4, label='Model 1')\n",
    "    handle2 = mlines.Line2D([], [], color='gray', linestyle='-', marker='o', markersize=4, label='Model 2')\n",
    "    ax.legend(handles=[handle1, handle2], loc='best')\n",
    "\n",
    "    # Format yticks labels and other labels\n",
    "    plt.yticks(ticks=range(len(labels)), labels=labels)\n",
    "    plt.title('')\n",
    "    plt.ylabel('Predictor')\n",
    "    plt.xlabel('Coefficient')\n",
    "    plt.axvline(0, color='grey', linestyle='--')\n",
    "    plt.show()"
   ]
  },
  {
   "cell_type": "code",
   "execution_count": null,
   "id": "98943198",
   "metadata": {
    "scrolled": true
   },
   "outputs": [],
   "source": [
    "plot_coefficents(model1, model2, offset=-0.2)"
   ]
  },
  {
   "cell_type": "code",
   "execution_count": null,
   "id": "8aecccdd",
   "metadata": {
    "scrolled": true
   },
   "outputs": [],
   "source": [
    "plot_coefficents(model3, model4, offset=-0.2)"
   ]
  },
  {
   "cell_type": "code",
   "execution_count": null,
   "id": "e6282894",
   "metadata": {},
   "outputs": [],
   "source": []
  }
 ],
 "metadata": {
  "kernelspec": {
   "display_name": "Python 3 (ipykernel)",
   "language": "python",
   "name": "python3"
  },
  "language_info": {
   "codemirror_mode": {
    "name": "ipython",
    "version": 3
   },
   "file_extension": ".py",
   "mimetype": "text/x-python",
   "name": "python",
   "nbconvert_exporter": "python",
   "pygments_lexer": "ipython3",
   "version": "3.11.4"
  }
 },
 "nbformat": 4,
 "nbformat_minor": 5
}
