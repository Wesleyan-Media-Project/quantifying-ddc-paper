{
 "cells": [
  {
   "cell_type": "code",
   "execution_count": null,
   "id": "fed64017",
   "metadata": {},
   "outputs": [],
   "source": [
    "import os\n",
    "import numpy as np\n",
    "import pandas as pd\n",
    "import json\n",
    "import itertools\n",
    "import pickle\n",
    "import matplotlib.pyplot as plt\n",
    "import torch\n",
    "from sentence_transformers import SentenceTransformer, util"
   ]
  },
  {
   "cell_type": "markdown",
   "id": "4c8b8077",
   "metadata": {},
   "source": [
    "## Load data"
   ]
  },
  {
   "cell_type": "code",
   "execution_count": null,
   "id": "96676209",
   "metadata": {},
   "outputs": [],
   "source": [
    "# Local data source path\n",
    "text_source_path = '' \n",
    "var_source_path = ''"
   ]
  },
  {
   "cell_type": "code",
   "execution_count": null,
   "id": "8bb3bd83",
   "metadata": {},
   "outputs": [],
   "source": [
    "text = pd.read_csv(os.path.join(text_source_path, 'g2022_adid_text.csv.gz'))\n",
    "var = pd.read_csv(os.path.join(var_source_path, 'g2022_adid_var.csv.gz'), usecols=['ad_id', 'wmp_creative_id'])"
   ]
  },
  {
   "cell_type": "code",
   "execution_count": null,
   "id": "cbdc2515",
   "metadata": {},
   "outputs": [],
   "source": [
    "df = var.merge(text, on='ad_id', how='left').drop_duplicates()"
   ]
  },
  {
   "cell_type": "code",
   "execution_count": null,
   "id": "5f129798",
   "metadata": {},
   "outputs": [],
   "source": [
    "unique = df[['wmp_creative_id']].drop_duplicates(subset=['wmp_creative_id'], keep='last').reset_index(drop=True)"
   ]
  },
  {
   "cell_type": "code",
   "execution_count": null,
   "id": "d71c1068",
   "metadata": {},
   "outputs": [],
   "source": [
    "unique.to_csv('../input_data/unique_creative_id_index_mapping.csv', index=False)"
   ]
  },
  {
   "cell_type": "code",
   "execution_count": null,
   "id": "40218f04",
   "metadata": {},
   "outputs": [],
   "source": [
    "'''\n",
    "Mapping between corpus embedding index and creative ID \n",
    "'''\n",
    "unique = pd.read_csv('../input_data/unique_creative_id_index_mapping.csv')"
   ]
  },
  {
   "cell_type": "markdown",
   "id": "a7d1bc0e",
   "metadata": {},
   "source": [
    "## Load original model  (Skip this section to load the reordered embeddings)"
   ]
  },
  {
   "cell_type": "code",
   "execution_count": null,
   "id": "d8d45e32",
   "metadata": {},
   "outputs": [],
   "source": [
    "corpus_embeddings0 = torch.load('../model/corpus_embedding_google2022_unique_lite.pt', map_location=torch.device('cpu'))"
   ]
  },
  {
   "cell_type": "code",
   "execution_count": null,
   "id": "92ca286a",
   "metadata": {},
   "outputs": [],
   "source": [
    "corpus_embeddings0.shape"
   ]
  },
  {
   "cell_type": "markdown",
   "id": "3728d0f5",
   "metadata": {},
   "source": [
    "## reorder corpus embedding indices to match cid ordering"
   ]
  },
  {
   "cell_type": "markdown",
   "id": "3a79902e",
   "metadata": {},
   "source": [
    "**This would make the pairwise similarity computation much faster**\n",
    "\n",
    "(Because pandas indexing is slow)"
   ]
  },
  {
   "cell_type": "code",
   "execution_count": null,
   "id": "9dc327cb",
   "metadata": {},
   "outputs": [],
   "source": [
    "unique.loc[:, 'cid_index'] = unique.wmp_creative_id.apply(lambda x: int(x.lstrip('cid_')))"
   ]
  },
  {
   "cell_type": "code",
   "execution_count": null,
   "id": "7799e279",
   "metadata": {},
   "outputs": [],
   "source": [
    "len(unique.cid_index.unique())"
   ]
  },
  {
   "cell_type": "code",
   "execution_count": null,
   "id": "20adb8e2",
   "metadata": {},
   "outputs": [],
   "source": [
    "reordered = torch.zeros(corpus_embeddings.shape[0], corpus_embeddings.shape[1], dtype=corpus_embeddings.dtype)"
   ]
  },
  {
   "cell_type": "code",
   "execution_count": null,
   "id": "e319545a",
   "metadata": {},
   "outputs": [],
   "source": [
    "assert reordered.shape == corpus_embeddings.shape"
   ]
  },
  {
   "cell_type": "code",
   "execution_count": null,
   "id": "2529dd2b",
   "metadata": {},
   "outputs": [],
   "source": [
    "indices = unique.cid_index.tolist()\n",
    "\n",
    "indices = torch.tensor([indices for i in range(corpus_embeddings.shape[1])])"
   ]
  },
  {
   "cell_type": "code",
   "execution_count": null,
   "id": "3a48d3c5",
   "metadata": {},
   "outputs": [],
   "source": [
    "indices = indices.T"
   ]
  },
  {
   "cell_type": "code",
   "execution_count": null,
   "id": "a5c21d14",
   "metadata": {},
   "outputs": [],
   "source": [
    "torch.save(reordered, 'model/corpus_embedding_google2022_unique_lite_reordered.pt') "
   ]
  },
  {
   "cell_type": "markdown",
   "id": "c499564d",
   "metadata": {},
   "source": [
    "## Import the reordered embeddings"
   ]
  },
  {
   "cell_type": "code",
   "execution_count": null,
   "id": "d4e38b88",
   "metadata": {},
   "outputs": [],
   "source": [
    "'''\n",
    "This model should be loaded for google data analysis: calculation performs much faster\n",
    "'''\n",
    "corpus_embeddings = torch.load('model/corpus_embedding_google2022_unique_lite_reordered.pt')"
   ]
  }
 ],
 "metadata": {
  "kernelspec": {
   "display_name": "Python 3 (ipykernel)",
   "language": "python",
   "name": "python3"
  },
  "language_info": {
   "codemirror_mode": {
    "name": "ipython",
    "version": 3
   },
   "file_extension": ".py",
   "mimetype": "text/x-python",
   "name": "python",
   "nbconvert_exporter": "python",
   "pygments_lexer": "ipython3",
   "version": "3.11.4"
  }
 },
 "nbformat": 4,
 "nbformat_minor": 5
}
