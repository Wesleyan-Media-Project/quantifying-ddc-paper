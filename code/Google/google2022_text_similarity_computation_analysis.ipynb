{
 "cells": [
  {
   "cell_type": "code",
   "execution_count": null,
   "id": "fed64017",
   "metadata": {},
   "outputs": [],
   "source": [
    "import os\n",
    "import numpy as np\n",
    "import pandas as pd\n",
    "import json\n",
    "import itertools\n",
    "import pickle\n",
    "import matplotlib.pyplot as plt\n",
    "import torch\n",
    "from sentence_transformers import SentenceTransformer, util"
   ]
  },
  {
   "cell_type": "markdown",
   "id": "4c8b8077",
   "metadata": {},
   "source": [
    "## Prepare data"
   ]
  },
  {
   "cell_type": "code",
   "execution_count": null,
   "id": "96676209",
   "metadata": {},
   "outputs": [],
   "source": [
    "source_path = '' # Local data source path"
   ]
  },
  {
   "cell_type": "code",
   "execution_count": null,
   "id": "8bb3bd83",
   "metadata": {},
   "outputs": [],
   "source": [
    "'''\n",
    "Import the var table\n",
    "'''\n",
    "var = pd.read_csv(os.path.join(source_path, 'g2022_adid_var.csv.gz'))"
   ]
  },
  {
   "cell_type": "markdown",
   "id": "abbc321f",
   "metadata": {},
   "source": [
    "### Subset for general election period data (Sept 2022 - Nov 2022)\n",
    "**Note: This step can be skipped because the current Google dataset we have made public includes advertising data from the general election period only**"
   ]
  },
  {
   "cell_type": "code",
   "execution_count": null,
   "id": "8f31070b",
   "metadata": {
    "scrolled": true
   },
   "outputs": [],
   "source": [
    "condition = (var.date_range_end >= '2022-09-01') & (var.date_range_start <= '2022-11-30')\n",
    "'''\n",
    "Second condition is not necessary: resulting dataframe shapes are the same.\n",
    "'''\n",
    "\n",
    "var = var[condition]"
   ]
  },
  {
   "cell_type": "markdown",
   "id": "6bcd301b",
   "metadata": {},
   "source": [
    "### Filter for set 3 and select only the confirmed Senate/House races"
   ]
  },
  {
   "cell_type": "code",
   "execution_count": null,
   "id": "92f6d2bc",
   "metadata": {},
   "outputs": [],
   "source": [
    "'''\n",
    "Set 3\n",
    "'''\n",
    "var = var.loc[var.set3 == 1]"
   ]
  },
  {
   "cell_type": "code",
   "execution_count": null,
   "id": "8d8a8aca",
   "metadata": {
    "scrolled": true
   },
   "outputs": [],
   "source": [
    "var[~var.race_of_focus.isin(['No race of focus', 'Downballot'])].sub_bucket.unique()"
   ]
  },
  {
   "cell_type": "code",
   "execution_count": null,
   "id": "38acb6d7",
   "metadata": {},
   "outputs": [],
   "source": [
    "'''\n",
    "Only house/senate races \n",
    "'''\n",
    "condition2 = (var.wmp_sen == 1) | (var.wmp_hse == 1) | (var.wmp_office == 'us senate') | (var.wmp_office == 'us house') | (~var.race_of_focus.isin(['No race of focus', 'Downballot']))"
   ]
  },
  {
   "cell_type": "code",
   "execution_count": null,
   "id": "4ecf4615",
   "metadata": {},
   "outputs": [],
   "source": [
    "var = var[condition2]"
   ]
  },
  {
   "cell_type": "markdown",
   "id": "4467839c",
   "metadata": {},
   "source": [
    "### Import text and ad-cid mapping tables"
   ]
  },
  {
   "cell_type": "code",
   "execution_count": null,
   "id": "9f505f20",
   "metadata": {},
   "outputs": [],
   "source": [
    "'''\n",
    "Import \"text\" table to get \"ad_type\"\n",
    "\n",
    "'''\n",
    "text = pd.read_csv(os.path.join(source_path, 'g2022_adid_text.csv.gz'),\n",
    "                   usecols=['ad_id', 'ad_type'])"
   ]
  },
  {
   "cell_type": "code",
   "execution_count": null,
   "id": "bfc94fa2",
   "metadata": {},
   "outputs": [],
   "source": [
    "'''\n",
    "Merge with text fields\n",
    "'''\n",
    "var = var.merge(text, how='left', on='ad_id').drop_duplicates()"
   ]
  },
  {
   "cell_type": "markdown",
   "id": "937f5bf0",
   "metadata": {},
   "source": [
    "### Import creative ids with nan text fields and remove nan values"
   ]
  },
  {
   "cell_type": "code",
   "execution_count": null,
   "id": "fe0aea64",
   "metadata": {},
   "outputs": [],
   "source": [
    "nan_ids = set(pd.read_csv('../input_data/nan_cids.csv').nan_cid.to_list())"
   ]
  },
  {
   "cell_type": "code",
   "execution_count": null,
   "id": "8f37c989",
   "metadata": {},
   "outputs": [],
   "source": [
    "'''\n",
    "Remove nan text values\n",
    "'''\n",
    "var = var[var.wmp_creative_id.apply(lambda x: x not in nan_ids)]"
   ]
  },
  {
   "cell_type": "markdown",
   "id": "67e02a9d",
   "metadata": {},
   "source": [
    "### Aggregate data at sponsor-media level "
   ]
  },
  {
   "cell_type": "markdown",
   "id": "65f23f36",
   "metadata": {},
   "source": [
    "#### Federal candidates: House/Senate"
   ]
  },
  {
   "cell_type": "code",
   "execution_count": null,
   "id": "c24782e2",
   "metadata": {},
   "outputs": [],
   "source": [
    "var_cand = var[var.federal_cd==1]"
   ]
  },
  {
   "cell_type": "code",
   "execution_count": null,
   "id": "91203c48",
   "metadata": {},
   "outputs": [],
   "source": [
    "cols = ['advertiser_id', 'wmp_creative_id', 'ad_type']"
   ]
  },
  {
   "cell_type": "code",
   "execution_count": null,
   "id": "889bb970",
   "metadata": {},
   "outputs": [],
   "source": [
    "cand_sponsor_agg = var_cand[cols].groupby(['advertiser_id', 'ad_type', 'wmp_creative_id']).first().reset_index().groupby(['advertiser_id', 'ad_type']).agg(lambda x: ' '.join(x)).reset_index()"
   ]
  },
  {
   "cell_type": "code",
   "execution_count": null,
   "id": "e330d5d9",
   "metadata": {},
   "outputs": [],
   "source": [
    "cand_sponsor_agg.rename(columns={'wmp_creative_id':'cids'}, inplace=True)"
   ]
  },
  {
   "cell_type": "code",
   "execution_count": null,
   "id": "03aabc57",
   "metadata": {},
   "outputs": [],
   "source": [
    "cand_sponsor_agg['num_unique'] = cand_sponsor_agg.cids.apply(lambda x: len(x.split()))"
   ]
  },
  {
   "cell_type": "code",
   "execution_count": null,
   "id": "e533f532",
   "metadata": {},
   "outputs": [],
   "source": [
    "cand_sponsor_agg = cand_sponsor_agg[cand_sponsor_agg.num_unique > 1]"
   ]
  },
  {
   "cell_type": "markdown",
   "id": "d0cc597c",
   "metadata": {},
   "source": [
    "#### Non-campaign sponsors: Advertiser-media-race_of_focuse-level aggregation"
   ]
  },
  {
   "cell_type": "markdown",
   "id": "4b139012",
   "metadata": {},
   "source": [
    "##### Eliminate irrelevant offices among non-candidate campaign sponsors"
   ]
  },
  {
   "cell_type": "code",
   "execution_count": null,
   "id": "9e3b2d27",
   "metadata": {},
   "outputs": [],
   "source": [
    "condition3 = (var.federal_cd == 0) & (~var.wmp_office.isin(['us house - other cycle', 'us senate - other cycle']))\n",
    "var_noncand = var[condition3]"
   ]
  },
  {
   "cell_type": "code",
   "execution_count": null,
   "id": "f9753ab8",
   "metadata": {},
   "outputs": [],
   "source": [
    "'''\n",
    "Drop no race of focus and NAs\n",
    "'''\n",
    "var_noncand = var_noncand[~pd.isna(var_noncand.race_of_focus)]"
   ]
  },
  {
   "cell_type": "code",
   "execution_count": null,
   "id": "c9aef6c8",
   "metadata": {},
   "outputs": [],
   "source": [
    "var_noncand = var_noncand[var_noncand.race_of_focus != 'No race of focus']"
   ]
  },
  {
   "cell_type": "code",
   "execution_count": null,
   "id": "7a2872c3",
   "metadata": {},
   "outputs": [],
   "source": [
    "cols2 = ['advertiser_id', 'wmp_creative_id', 'ad_type', 'race_of_focus']"
   ]
  },
  {
   "cell_type": "code",
   "execution_count": null,
   "id": "8b76c020",
   "metadata": {},
   "outputs": [],
   "source": [
    "noncand_sponsor_agg = var_noncand[cols2].groupby(['advertiser_id', 'ad_type', 'race_of_focus', 'wmp_creative_id']).first().reset_index()\\\n",
    ".groupby(['advertiser_id', 'ad_type', 'race_of_focus']).agg(lambda x: ' '.join(x)).reset_index()"
   ]
  },
  {
   "cell_type": "code",
   "execution_count": null,
   "id": "09925246",
   "metadata": {},
   "outputs": [],
   "source": [
    "noncand_sponsor_agg.rename(columns={'wmp_creative_id':'cids'}, inplace=True)\n",
    "noncand_sponsor_agg['num_unique'] = noncand_sponsor_agg.cids.apply(lambda x: len(x.split()))\n",
    "\n",
    "# filter for sponsors with at least a pair of unique creatives\n",
    "noncand_sponsor_agg = noncand_sponsor_agg[noncand_sponsor_agg.num_unique > 1]"
   ]
  },
  {
   "cell_type": "markdown",
   "id": "3728d0f5",
   "metadata": {},
   "source": [
    "## Import corpus embedding model (indices reordered version)"
   ]
  },
  {
   "cell_type": "code",
   "execution_count": null,
   "id": "d4e38b88",
   "metadata": {},
   "outputs": [],
   "source": [
    "corpus_embeddings = torch.load('../model/corpus_embedding_google2022_unique_lite_reordered.pt')"
   ]
  },
  {
   "cell_type": "markdown",
   "id": "6a9e6dce",
   "metadata": {},
   "source": [
    "## compute pairwise cosine similarity\n",
    "**Save average and standard deviation**"
   ]
  },
  {
   "cell_type": "code",
   "execution_count": null,
   "id": "e3b29f9e",
   "metadata": {},
   "outputs": [],
   "source": [
    "def compute_avg_similarity(cid_lst):\n",
    "    cid_lst = cid_lst.split()\n",
    "    \n",
    "    pairs = list(itertools.combinations(cid_lst, 2))\n",
    "    if pairs:\n",
    "        scores = []\n",
    "        for pair in pairs: \n",
    "            cid1, cid2 = pair\n",
    "            idx1 = int(cid1.lstrip('cid_'))\n",
    "            idx2 = int(cid2.lstrip('cid_'))\n",
    "            \n",
    "            score = util.cos_sim(corpus_embeddings[idx1], corpus_embeddings[idx2])[0][0].numpy()\n",
    "            scores.append(score)\n",
    "        return np.array(scores).mean(), np.array(scores).std()\n",
    "    return None"
   ]
  },
  {
   "cell_type": "markdown",
   "id": "9ebd042f",
   "metadata": {},
   "source": [
    "### Federal candidates: by advertiser and media type"
   ]
  },
  {
   "cell_type": "code",
   "execution_count": null,
   "id": "6b689dcc",
   "metadata": {},
   "outputs": [],
   "source": [
    "cand_sponsor_agg.loc[:, ['avg', 'std']] = cand_sponsor_agg.cids.apply(lambda x: pd.Series(compute_avg_similarity(x), index=['avg', 'std'], dtype=\"float\"))"
   ]
  },
  {
   "cell_type": "code",
   "execution_count": null,
   "id": "58854764",
   "metadata": {},
   "outputs": [],
   "source": [
    "'''\n",
    "general election period only: Sept - Nov 2022\n",
    "'''\n",
    "\n",
    "cand_sponsor_agg.to_csv('../output_data/g2022_set3_gen_elect_cand_media_level_average_pairwise_similarity.csv', index=False)"
   ]
  },
  {
   "cell_type": "markdown",
   "id": "d546ed40",
   "metadata": {},
   "source": [
    "### non-campaign candidate sponsors: by sponsor - media - race of focus"
   ]
  },
  {
   "cell_type": "code",
   "execution_count": null,
   "id": "7d35ef5e",
   "metadata": {},
   "outputs": [],
   "source": [
    "noncand_sponsor_agg.loc[:, ['avg', 'std']] = noncand_sponsor_agg.cids.apply(lambda x: pd.Series(compute_avg_similarity(x), index=['avg', 'std'], dtype=\"float\"))"
   ]
  },
  {
   "cell_type": "code",
   "execution_count": null,
   "id": "2e67a838",
   "metadata": {},
   "outputs": [],
   "source": [
    "noncand_sponsor_agg.shape"
   ]
  },
  {
   "cell_type": "code",
   "execution_count": null,
   "id": "818bc0cd",
   "metadata": {},
   "outputs": [],
   "source": [
    "noncand_sponsor_agg.num_unique.max()"
   ]
  },
  {
   "cell_type": "code",
   "execution_count": null,
   "id": "e1977161",
   "metadata": {},
   "outputs": [],
   "source": [
    "'''\n",
    "general election period only\n",
    "'''\n",
    "noncand_sponsor_agg.to_csv('../output_data/g2022_set3_gen_elect_noncandidate_advertiser_racefocus_media_level_average_pairwise_similarity.csv', index=False)"
   ]
  },
  {
   "cell_type": "markdown",
   "id": "078e9757",
   "metadata": {},
   "source": [
    "## Pairwise similarity distribution for individual candidate cases"
   ]
  },
  {
   "cell_type": "code",
   "execution_count": null,
   "id": "a1650184",
   "metadata": {},
   "outputs": [],
   "source": [
    "import matplotlib.pyplot as plt\n",
    "import seaborn as sns"
   ]
  },
  {
   "cell_type": "code",
   "execution_count": null,
   "id": "bec2f6db",
   "metadata": {},
   "outputs": [],
   "source": [
    "'''\n",
    "general election period\n",
    "'''\n",
    "adv_agg = pd.read_csv('output_data/g2022_set3_gen_elect_advertiser_media_level_average_pairwise_similarity.csv')"
   ]
  },
  {
   "cell_type": "code",
   "execution_count": null,
   "id": "e4d7236f",
   "metadata": {},
   "outputs": [],
   "source": [
    "adv_agg.head()"
   ]
  },
  {
   "cell_type": "code",
   "execution_count": null,
   "id": "7bc018bc",
   "metadata": {},
   "outputs": [],
   "source": [
    "def compute_pairwise_similarity_adv_id(df, adv_id, media_type):\n",
    "    \n",
    "    cid_lst= df[(df.advertiser_id == adv_id) & (df.ad_type == media_type)].cids.iloc[0]\n",
    "    \n",
    "    cid_lst = cid_lst.split()\n",
    "    \n",
    "    pairs = list(itertools.combinations(cid_lst, 2))\n",
    "    \n",
    "    if pairs:\n",
    "        scores = []\n",
    "        for pair in pairs: \n",
    "            cid1, cid2 = pair\n",
    "            idx1 = int(cid1.lstrip('cid_'))\n",
    "            idx2 = int(cid2.lstrip('cid_'))\n",
    "            \n",
    "            score = util.cos_sim(corpus_embeddings[idx1], corpus_embeddings[idx2])[0][0].numpy()\n",
    "            scores.append(float(score))\n",
    "        return scores\n",
    "    return None"
   ]
  },
  {
   "cell_type": "code",
   "execution_count": null,
   "id": "e6947b97",
   "metadata": {},
   "outputs": [],
   "source": [
    "# Warnock general election\n",
    "\n",
    "warnock_vid = compute_pairwise_similarity_adv_id(adv_agg, 'AR07182956219827486721', 'VIDEO')\n",
    "warnock_txt = compute_pairwise_similarity_adv_id(adv_agg, 'AR07182956219827486721', 'TEXT')\n",
    "\n",
    "sns.set_theme(style='ticks', palette=\"tab10\")\n",
    "\n",
    "fig, ax = plt.subplots(2, sharex=True)\n",
    "\n",
    "sns.histplot(warnock_vid, kde=True, bins=40, color='gray', ax=ax[0])\n",
    "sns.histplot(warnock_txt, kde=True, bins=40, color='gray', ax=ax[1])\n",
    "\n",
    "ax[0].set_xlim(0, 1)\n",
    "ax[1].set_xlim(0, 1)\n",
    "\n",
    "\n",
    "ax[0].set(title='Pairwise text similarity distribution (video): Raphael Warnock', xlabel='similarity score')\n",
    "ax[1].set(title='Pairwise text similarity distribution (text): Raphael Warnock', xlabel='similarity score')"
   ]
  },
  {
   "cell_type": "code",
   "execution_count": null,
   "id": "c1c357c1",
   "metadata": {},
   "outputs": [],
   "source": [
    "# AOC general election\n",
    "\n",
    "aoc_vid = compute_pairwise_similarity_adv_id(adv_agg, 'AR17095295161908330497', 'VIDEO')\n",
    "aoc_txt = compute_pairwise_similarity_adv_id(adv_agg, 'AR17095295161908330497', 'TEXT')\n",
    "\n",
    "sns.set_theme(style='ticks', palette=\"tab10\")\n",
    "\n",
    "fig, ax = plt.subplots(2, sharex=True)\n",
    "\n",
    "sns.histplot(aoc_vid, kde=True, bins=40, color='gray', ax=ax[0])\n",
    "sns.histplot(aoc_txt, kde=True, bins=40, color='gray', ax=ax[1])\n",
    "\n",
    "ax[0].set_xlim(0, 1)\n",
    "ax[1].set_xlim(0, 1)\n",
    "\n",
    "\n",
    "ax[0].set(title='Pairwise text similarity distribution (video): Alexandria Ocasio-Cortez', xlabel='similarity score')\n",
    "ax[1].set(title='Pairwise text similarity distribution (text): Alexandria Ocasio-Cortez', xlabel='similarity score')"
   ]
  },
  {
   "cell_type": "code",
   "execution_count": null,
   "id": "2ca84f3c",
   "metadata": {},
   "outputs": [],
   "source": []
  }
 ],
 "metadata": {
  "kernelspec": {
   "display_name": "Python 3 (ipykernel)",
   "language": "python",
   "name": "python3"
  },
  "language_info": {
   "codemirror_mode": {
    "name": "ipython",
    "version": 3
   },
   "file_extension": ".py",
   "mimetype": "text/x-python",
   "name": "python",
   "nbconvert_exporter": "python",
   "pygments_lexer": "ipython3",
   "version": "3.11.4"
  }
 },
 "nbformat": 4,
 "nbformat_minor": 5
}
