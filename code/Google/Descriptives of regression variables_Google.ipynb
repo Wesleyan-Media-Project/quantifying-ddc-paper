{
 "cells": [
  {
   "cell_type": "code",
   "execution_count": null,
   "id": "a3837d93",
   "metadata": {},
   "outputs": [],
   "source": [
    "import os\n",
    "import numpy as np\n",
    "import pandas as pd\n",
    "import matplotlib.pyplot as plt\n",
    "import seaborn as sns"
   ]
  },
  {
   "cell_type": "code",
   "execution_count": null,
   "id": "d1ab23fe",
   "metadata": {},
   "outputs": [],
   "source": [
    "df = pd.read_csv('../input_data/gg_regression_table_for_descriptives.csv')"
   ]
  },
  {
   "cell_type": "code",
   "execution_count": null,
   "id": "31af13f5",
   "metadata": {},
   "outputs": [],
   "source": [
    "df.AverageSimilarity.mean()"
   ]
  },
  {
   "cell_type": "code",
   "execution_count": null,
   "id": "c33b2e53",
   "metadata": {},
   "outputs": [],
   "source": [
    "df_cand = df[(df.candidate == 1)]"
   ]
  },
  {
   "cell_type": "markdown",
   "id": "db957d78",
   "metadata": {},
   "source": [
    "## DV descriptives"
   ]
  },
  {
   "cell_type": "code",
   "execution_count": null,
   "id": "2c8a849b",
   "metadata": {},
   "outputs": [],
   "source": [
    "source_path = '' # Local source path"
   ]
  },
  {
   "cell_type": "code",
   "execution_count": null,
   "id": "af94d2f1",
   "metadata": {},
   "outputs": [],
   "source": [
    "var = pd.read_csv(os.path.join(source_path, 'g2022_adid_var.csv.gz'))"
   ]
  },
  {
   "cell_type": "code",
   "execution_count": null,
   "id": "7d0f6f8c",
   "metadata": {},
   "outputs": [],
   "source": [
    "'''\n",
    "Select Set 3 from the universe of possible federal election ads\n",
    "'''\n",
    "var = var.loc[var.set3 == 1]"
   ]
  },
  {
   "cell_type": "markdown",
   "id": "c4d61ee1",
   "metadata": {},
   "source": [
    "**General election period**"
   ]
  },
  {
   "cell_type": "code",
   "execution_count": null,
   "id": "f4153ec4",
   "metadata": {},
   "outputs": [],
   "source": [
    "condition = (var.date_range_end >= '2022-09-01') & (var.date_range_start <= '2022-11-30')\n",
    "'''\n",
    "Second condition is not necessary: resulting dataframe shapes are the same.\n",
    "'''\n",
    "var = var[condition]"
   ]
  },
  {
   "cell_type": "code",
   "execution_count": null,
   "id": "1ca98f1e",
   "metadata": {},
   "outputs": [],
   "source": [
    "text = pd.read_csv(os.path.join(source_path, 'g2022_adid_text.csv.gz'))"
   ]
  },
  {
   "cell_type": "code",
   "execution_count": null,
   "id": "2874707b",
   "metadata": {},
   "outputs": [],
   "source": [
    "var = var.merge(text.drop('advertiser_name', axis=1), how='left', on='ad_id').drop_duplicates() \n",
    "# drop advertiser_name to avoid column name collision"
   ]
  },
  {
   "cell_type": "code",
   "execution_count": null,
   "id": "3c9fe78d",
   "metadata": {
    "scrolled": true
   },
   "outputs": [],
   "source": [
    "var.columns"
   ]
  },
  {
   "cell_type": "markdown",
   "id": "9d169729",
   "metadata": {},
   "source": [
    "**Number of unique creatives: General election period**"
   ]
  },
  {
   "cell_type": "code",
   "execution_count": null,
   "id": "5bd235bd",
   "metadata": {
    "scrolled": true
   },
   "outputs": [],
   "source": [
    "sns.set_theme(style='ticks', palette=\"tab10\")\n",
    "\n",
    "sns.histplot(df.AverageSimilarity, kde=True, bins=40, color='gray', line_kws={'color': 'gray'})"
   ]
  },
  {
   "cell_type": "code",
   "execution_count": null,
   "id": "c25964f1",
   "metadata": {},
   "outputs": [],
   "source": [
    "df_agg = df.merge(var[['advertiser_id', 'advertiser_name']], how='left', on='advertiser_id').drop_duplicates()"
   ]
  },
  {
   "cell_type": "code",
   "execution_count": null,
   "id": "8461eee8",
   "metadata": {},
   "outputs": [],
   "source": [
    "df_agg['advertiser_name'] = df_agg['advertiser_name'].str.lower()"
   ]
  },
  {
   "cell_type": "code",
   "execution_count": null,
   "id": "eb491277",
   "metadata": {},
   "outputs": [],
   "source": [
    "df_agg = df_agg.groupby(['advertiser_id']).agg({'advertiser_name': 'first', 'num_unique': 'sum'}).reset_index() "
   ]
  },
  {
   "cell_type": "code",
   "execution_count": null,
   "id": "e40c50b6",
   "metadata": {},
   "outputs": [],
   "source": [
    "df_agg.num_unique.mean()"
   ]
  },
  {
   "cell_type": "code",
   "execution_count": null,
   "id": "ade6a7d4",
   "metadata": {},
   "outputs": [],
   "source": [
    "df_agg.num_unique.median()"
   ]
  },
  {
   "cell_type": "code",
   "execution_count": null,
   "id": "342aae2e",
   "metadata": {},
   "outputs": [],
   "source": [
    "df_agg[df_agg.advertiser_name == 'nrsc'] "
   ]
  },
  {
   "cell_type": "code",
   "execution_count": null,
   "id": "ce0fea7a",
   "metadata": {
    "scrolled": true
   },
   "outputs": [],
   "source": [
    "df_agg.sort_values(by='num_unique', ascending=False).head(40)"
   ]
  },
  {
   "cell_type": "code",
   "execution_count": null,
   "id": "b5588b47",
   "metadata": {
    "scrolled": true
   },
   "outputs": [],
   "source": [
    "# aggregated num_unique histogram (sponsor level)\n",
    "sns.histplot(df_agg.num_unique, kde=True, bins=200, color='gray')\n",
    "plt.xlim((0, 100))"
   ]
  },
  {
   "cell_type": "markdown",
   "id": "25282e13",
   "metadata": {},
   "source": [
    "### Sophistication index"
   ]
  },
  {
   "cell_type": "code",
   "execution_count": null,
   "id": "618783df",
   "metadata": {},
   "outputs": [],
   "source": [
    "def create_sophistication_index(input_df):\n",
    "    max_ = input_df.num_unique.max()\n",
    "    min_ = input_df.num_unique.min()\n",
    "    input_df['num_unique_normalized'] = (input_df.num_unique - min_)/(max_ - min_)\n",
    "    input_df['sophistication_index'] = input_df['num_unique_normalized'] * (1 - input_df.AverageSimilarity)\n",
    "    return input_df"
   ]
  },
  {
   "cell_type": "code",
   "execution_count": null,
   "id": "ef26469c",
   "metadata": {},
   "outputs": [],
   "source": [
    "df_cand = create_sophistication_index(df_cand)"
   ]
  },
  {
   "cell_type": "code",
   "execution_count": null,
   "id": "542faa7a",
   "metadata": {},
   "outputs": [],
   "source": [
    "cols = ['advertiser_id', 'advertiser_name',]\n",
    "df_cand = df_cand.merge(var[cols], how='left', on='advertiser_id').drop_duplicates()"
   ]
  },
  {
   "cell_type": "code",
   "execution_count": null,
   "id": "dbdc0904",
   "metadata": {},
   "outputs": [],
   "source": [
    "df_cand.columns"
   ]
  },
  {
   "cell_type": "markdown",
   "id": "fd4567d3",
   "metadata": {},
   "source": [
    "#### General eleciton period"
   ]
  },
  {
   "cell_type": "markdown",
   "id": "77b289a0",
   "metadata": {},
   "source": [
    "**To display in paper**"
   ]
  },
  {
   "cell_type": "code",
   "execution_count": null,
   "id": "53acd800",
   "metadata": {},
   "outputs": [],
   "source": [
    "from IPython.display import display, HTML"
   ]
  },
  {
   "cell_type": "code",
   "execution_count": null,
   "id": "4dcc7485",
   "metadata": {
    "scrolled": true
   },
   "outputs": [],
   "source": [
    "df_cand[\"advertiser_name\"] = df_cand.advertiser_name.str.title()"
   ]
  },
  {
   "cell_type": "code",
   "execution_count": null,
   "id": "92b43505",
   "metadata": {},
   "outputs": [],
   "source": [
    "df_cand[\"ad_type\"] = df_cand.ad_type.str.title()"
   ]
  },
  {
   "cell_type": "markdown",
   "id": "ee4075e1",
   "metadata": {},
   "source": [
    "**general election period**"
   ]
  },
  {
   "cell_type": "code",
   "execution_count": null,
   "id": "12ed0850",
   "metadata": {
    "scrolled": true
   },
   "outputs": [],
   "source": [
    "cols2display = ['advertiser_name', 'sophistication_index', 'ad_type', 'num_unique', 'AverageSimilarity']\n",
    "\n",
    "display_df = df_cand[cols2display].drop_duplicates().sort_values(by='sophistication_index', ascending=False).head(22)\n",
    "\n",
    "display(HTML(display_df.to_html(index=False)))"
   ]
  },
  {
   "cell_type": "code",
   "execution_count": null,
   "id": "b3be5590",
   "metadata": {
    "scrolled": true
   },
   "outputs": [],
   "source": [
    "df_cand[cols2display].sort_values(by='sophistication_index', ascending=False).head(50)"
   ]
  }
 ],
 "metadata": {
  "kernelspec": {
   "display_name": "Python 3 (ipykernel)",
   "language": "python",
   "name": "python3"
  },
  "language_info": {
   "codemirror_mode": {
    "name": "ipython",
    "version": 3
   },
   "file_extension": ".py",
   "mimetype": "text/x-python",
   "name": "python",
   "nbconvert_exporter": "python",
   "pygments_lexer": "ipython3",
   "version": "3.11.4"
  }
 },
 "nbformat": 4,
 "nbformat_minor": 5
}
