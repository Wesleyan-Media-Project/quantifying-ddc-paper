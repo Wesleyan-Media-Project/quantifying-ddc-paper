{
 "cells": [
  {
   "cell_type": "code",
   "execution_count": null,
   "id": "6e85d1df",
   "metadata": {},
   "outputs": [],
   "source": [
    "import os\n",
    "import numpy as np\n",
    "import pandas as pd\n",
    "from collections import Counter\n",
    "import matplotlib.pyplot as plt\n",
    "import statsmodels.formula.api as smf\n",
    "from stargazer.stargazer import Stargazer\n",
    "from IPython.display import display, HTML"
   ]
  },
  {
   "cell_type": "markdown",
   "id": "a710c6a1",
   "metadata": {},
   "source": [
    "## Create regression table"
   ]
  },
  {
   "cell_type": "code",
   "execution_count": null,
   "id": "2b03d4f5",
   "metadata": {},
   "outputs": [],
   "source": [
    "source_path = '' # Define local data directory"
   ]
  },
  {
   "cell_type": "code",
   "execution_count": null,
   "id": "49abbc34",
   "metadata": {
    "scrolled": true
   },
   "outputs": [],
   "source": [
    "var = pd.read_csv(os.path.join(source_path, 'fb_2022_adid_var.csv.gz'))"
   ]
  },
  {
   "cell_type": "code",
   "execution_count": null,
   "id": "39060f2f",
   "metadata": {},
   "outputs": [],
   "source": [
    "'''\n",
    "Filter for Set 3\n",
    "'''\n",
    "var = var[var.set3 == 1]"
   ]
  },
  {
   "cell_type": "code",
   "execution_count": null,
   "id": "2fbd883f",
   "metadata": {},
   "outputs": [],
   "source": [
    "var.shape"
   ]
  },
  {
   "cell_type": "markdown",
   "id": "fb041b42",
   "metadata": {},
   "source": [
    "### Import average text similarity results"
   ]
  },
  {
   "cell_type": "code",
   "execution_count": null,
   "id": "44fe5ee4",
   "metadata": {},
   "outputs": [],
   "source": [
    "'''\n",
    "fed candidate campaign sponsors\n",
    "'''\n",
    "df_cand = pd.read_csv('../output_data/fb_set3_cand_pdid_media_average_pairwise_similarity.csv')\n",
    "\n",
    "'''''\n",
    "non-campaign sponsors\n",
    "'''''\n",
    "df_noncand = pd.read_csv('../output_data/fb_set3_noncandidate_pdid_racefocus_media_average_pairwise_similarity.csv')"
   ]
  },
  {
   "cell_type": "code",
   "execution_count": null,
   "id": "dbec085b",
   "metadata": {},
   "outputs": [],
   "source": [
    "print(df_noncand.columns)\n",
    "df_noncand.head(2)"
   ]
  },
  {
   "cell_type": "code",
   "execution_count": null,
   "id": "4a5e0d5b",
   "metadata": {},
   "outputs": [],
   "source": [
    "'''\n",
    "Select only relevant sponsors from set3 var table\n",
    "'''\n",
    "all_sponsor_ids = df_cand.pd_id.tolist() + df_noncand.pd_id.tolist()\n",
    "var = var[var.pd_id.isin(all_sponsor_ids)]"
   ]
  },
  {
   "cell_type": "markdown",
   "id": "2f13978d",
   "metadata": {},
   "source": [
    "### Process/explore variables"
   ]
  },
  {
   "cell_type": "markdown",
   "id": "7aa74384",
   "metadata": {},
   "source": [
    "**Party variables**"
   ]
  },
  {
   "cell_type": "code",
   "execution_count": null,
   "id": "07ab7c89",
   "metadata": {},
   "outputs": [],
   "source": [
    "'''\n",
    "Create \"optimized\" party var\n",
    "1) Use party variables from entity files. \n",
    "2) When they are not available, use pd_id level party classifier's predictions \n",
    "'''\n",
    "\n",
    "var['party_pdid_opt'] = np.where(pd.isna(var.party_all), var.party_all_clf_pdid, var.party_all)"
   ]
  },
  {
   "cell_type": "markdown",
   "id": "259617bc",
   "metadata": {},
   "source": [
    "**Race competitiveness**: \n",
    "\n",
    "SD: safe Dem\n",
    "DF: Dem favored\n",
    "LD: Lean Dem\n",
    "C: Too-close-to-call\n",
    "LR: Lean Republican\n",
    "RF: Republican favored\n",
    "SR: Safe Republican\n",
    " \n",
    "The SD and SR races are coded 1 in house2 (least competitive)\n",
    "DF and RF are coded 2\n",
    "LD and LR are coded 3\n",
    "C is coded 4 (most competitive)"
   ]
  },
  {
   "cell_type": "code",
   "execution_count": null,
   "id": "3887b5ce",
   "metadata": {},
   "outputs": [],
   "source": [
    "# load race competitiveness index file\n",
    "# For access to this data, contact the authors\n",
    "race = pd.read_csv('../../race_competitiveness.csv')"
   ]
  },
  {
   "cell_type": "code",
   "execution_count": null,
   "id": "9af8b7ae",
   "metadata": {},
   "outputs": [],
   "source": [
    "var = var.merge(race[['race_code','race_competitiveness']], how='left', left_on='race_of_focus', right_on='race_code')"
   ]
  },
  {
   "cell_type": "markdown",
   "id": "e36c428e",
   "metadata": {},
   "source": [
    "**campaign resources**\n",
    "\n",
    "Only for the subset of sponsors who invested in TV ads"
   ]
  },
  {
   "cell_type": "code",
   "execution_count": null,
   "id": "35457a13",
   "metadata": {},
   "outputs": [],
   "source": [
    "# for access to this data, contact the authors\n",
    "cost = pd.read_csv('../input_data/campaign_resource_fb2022.csv')"
   ]
  },
  {
   "cell_type": "code",
   "execution_count": null,
   "id": "dd799640",
   "metadata": {},
   "outputs": [],
   "source": [
    "'''\n",
    "Merge to regression tables\n",
    "'''\n",
    "\n",
    "df_cand = df_cand.merge(cost[['pd_id', 'estcost']], on='pd_id', how='left')\n",
    "df_noncand = df_noncand.merge(cost[['pd_id', 'estcost']], on='pd_id', how='left')"
   ]
  },
  {
   "cell_type": "code",
   "execution_count": null,
   "id": "bb964177",
   "metadata": {},
   "outputs": [],
   "source": [
    "# Log transform\n",
    "df_cand['estcost'] = np.log(df_cand['estcost'])\n",
    "df_noncand['estcost'] = np.log(df_noncand['estcost'])"
   ]
  },
  {
   "cell_type": "code",
   "execution_count": null,
   "id": "2c918247",
   "metadata": {},
   "outputs": [],
   "source": [
    "df_cand.rename(columns={\"estcost\":\"log_estimated_cost\"}, inplace=True)\n",
    "df_noncand.rename(columns={\"estcost\":\"log_estimated_cost\"}, inplace=True)"
   ]
  },
  {
   "cell_type": "markdown",
   "id": "3562f476",
   "metadata": {},
   "source": [
    "### Select regression variables"
   ]
  },
  {
   "cell_type": "code",
   "execution_count": null,
   "id": "c28f80ca",
   "metadata": {},
   "outputs": [],
   "source": [
    "cols = ['pd_id', 'wmp_media_type', 'wmp_office', 'wmp_spontype', 'party_pdid_opt', \n",
    "        'race_of_focus', 'race_competitiveness', ]"
   ]
  },
  {
   "cell_type": "code",
   "execution_count": null,
   "id": "8ab920e4",
   "metadata": {},
   "outputs": [],
   "source": [
    "data = var[cols]"
   ]
  },
  {
   "cell_type": "code",
   "execution_count": null,
   "id": "fd0040ac",
   "metadata": {},
   "outputs": [],
   "source": [
    "data.head(2)"
   ]
  },
  {
   "cell_type": "code",
   "execution_count": null,
   "id": "cdb4ba2c",
   "metadata": {},
   "outputs": [],
   "source": [
    "# FB/Instagram don't have plain text ads\n",
    "df_cand.wmp_media_type.unique()"
   ]
  },
  {
   "cell_type": "code",
   "execution_count": null,
   "id": "911cf371",
   "metadata": {},
   "outputs": [],
   "source": [
    "data.wmp_office.unique()"
   ]
  },
  {
   "cell_type": "markdown",
   "id": "83f8d017",
   "metadata": {},
   "source": [
    "### Process regression variables"
   ]
  },
  {
   "cell_type": "code",
   "execution_count": null,
   "id": "c893b660",
   "metadata": {
    "scrolled": true
   },
   "outputs": [],
   "source": [
    "data['image'] = np.where((data.wmp_media_type == 'image'), 1, 0)\n",
    "\n",
    "data['party'] = np.where(data.wmp_spontype.isin(['party', 'party national']), 1, 0)\n",
    "data['group'] = np.where(data.wmp_spontype == 'group', 1, 0)\n",
    "data['other_sponsor_type'] = np.where(data.wmp_spontype.isin(['government official',\n",
    "                                                              'coordinated', 'government agency',]), 1, 0)\n",
    "\n",
    "data['Democratic'] = np.where(data.party_pdid_opt == 'DEM', 1, 0)\n",
    "data['third_party'] = np.where(data.party_pdid_opt == 'OTHER', 1, 0)\n",
    "\n",
    "# Senate races\n",
    "data['senate'] = np.where((data.wmp_office == 'us senate') | (data.race_of_focus.str.endswith('S0')), 1, 0)"
   ]
  },
  {
   "cell_type": "code",
   "execution_count": null,
   "id": "ac6e010e",
   "metadata": {},
   "outputs": [],
   "source": [
    "# aggregate at the advertiser level\n",
    "agg = data.groupby(['pd_id', 'wmp_media_type']).mean(numeric_only=True).reset_index()"
   ]
  },
  {
   "cell_type": "markdown",
   "id": "d510d063",
   "metadata": {},
   "source": [
    "### Candidate regression table"
   ]
  },
  {
   "cell_type": "code",
   "execution_count": null,
   "id": "6c919b8f",
   "metadata": {},
   "outputs": [],
   "source": [
    "df_cand = df_cand.merge(agg, on=['pd_id', 'wmp_media_type'], how='left')"
   ]
  },
  {
   "cell_type": "code",
   "execution_count": null,
   "id": "abb55a32",
   "metadata": {},
   "outputs": [],
   "source": [
    "df_cand.rename(columns={'avg': 'AverageSimilarity'}, inplace=True)"
   ]
  },
  {
   "cell_type": "code",
   "execution_count": null,
   "id": "eaf5bd9b",
   "metadata": {},
   "outputs": [],
   "source": [
    "df_cand['candidate'] = 1"
   ]
  },
  {
   "cell_type": "code",
   "execution_count": null,
   "id": "e1229f05",
   "metadata": {},
   "outputs": [],
   "source": [
    "df_cand.columns"
   ]
  },
  {
   "cell_type": "markdown",
   "id": "561376fb",
   "metadata": {},
   "source": [
    "### Non-candidate regression table"
   ]
  },
  {
   "cell_type": "code",
   "execution_count": null,
   "id": "afbb7f70",
   "metadata": {},
   "outputs": [],
   "source": [
    "'''\n",
    "for non-candidate, non-campaign sponsors\n",
    "\n",
    "to merge with df_noncand \n",
    "'''\n",
    "agg2 = data.groupby(['pd_id', 'wmp_media_type', 'race_of_focus']).mean(numeric_only=True).reset_index()"
   ]
  },
  {
   "cell_type": "code",
   "execution_count": null,
   "id": "31d44f39",
   "metadata": {},
   "outputs": [],
   "source": [
    "agg2.columns"
   ]
  },
  {
   "cell_type": "code",
   "execution_count": null,
   "id": "c0efce9f",
   "metadata": {},
   "outputs": [],
   "source": [
    "df_noncand = df_noncand.merge(agg2, on=['pd_id', 'wmp_media_type', 'race_of_focus'], how='left')\n",
    "\n",
    "df_noncand.rename(columns={'avg': 'AverageSimilarity'}, inplace=True)"
   ]
  },
  {
   "cell_type": "code",
   "execution_count": null,
   "id": "73550a83",
   "metadata": {},
   "outputs": [],
   "source": [
    "df_noncand['candidate'] = 0"
   ]
  },
  {
   "cell_type": "markdown",
   "id": "166d4329",
   "metadata": {},
   "source": [
    "### Combine candidates only and non-candidates sponsors grouped by race of focus"
   ]
  },
  {
   "cell_type": "code",
   "execution_count": null,
   "id": "a3a26e2f",
   "metadata": {},
   "outputs": [],
   "source": [
    "df_cand.shape"
   ]
  },
  {
   "cell_type": "code",
   "execution_count": null,
   "id": "b8728eeb",
   "metadata": {},
   "outputs": [],
   "source": [
    "df = pd.concat([df_cand, df_noncand.drop(\"race_of_focus\", axis=1)])"
   ]
  },
  {
   "cell_type": "code",
   "execution_count": null,
   "id": "6cb9613d",
   "metadata": {},
   "outputs": [],
   "source": [
    "df.columns"
   ]
  },
  {
   "cell_type": "code",
   "execution_count": null,
   "id": "b079ec6c",
   "metadata": {},
   "outputs": [],
   "source": [
    "'''\n",
    "Final regression table\n",
    "'''\n",
    "df.to_csv('../input_data/fb_regression_table_for_descriptives.csv', index=False)"
   ]
  },
  {
   "cell_type": "markdown",
   "id": "d4e08749",
   "metadata": {},
   "source": [
    "### Import regression table directly"
   ]
  },
  {
   "cell_type": "code",
   "execution_count": null,
   "id": "0eb2113e",
   "metadata": {},
   "outputs": [],
   "source": [
    "df = pd.read_csv('../input_data/fb_regression_table_for_descriptives.csv')"
   ]
  },
  {
   "cell_type": "code",
   "execution_count": null,
   "id": "d22af84d",
   "metadata": {},
   "outputs": [],
   "source": [
    "df_cand = df[df.candidate == 1]"
   ]
  },
  {
   "cell_type": "markdown",
   "id": "59a11d87",
   "metadata": {},
   "source": [
    "### Subset of sponsors who invested in TV ads"
   ]
  },
  {
   "cell_type": "code",
   "execution_count": null,
   "id": "6bbc477f",
   "metadata": {},
   "outputs": [],
   "source": [
    "df_cost = df[~pd.isna(df.log_estimated_cost)]"
   ]
  },
  {
   "cell_type": "code",
   "execution_count": null,
   "id": "b402e0fa",
   "metadata": {
    "scrolled": true
   },
   "outputs": [],
   "source": [
    "df_cand_cost = df_cost[(df_cost.candidate == 1)]"
   ]
  },
  {
   "cell_type": "markdown",
   "id": "6dae5392",
   "metadata": {},
   "source": [
    "## Create DV (new method)"
   ]
  },
  {
   "cell_type": "code",
   "execution_count": null,
   "id": "af759765",
   "metadata": {},
   "outputs": [],
   "source": [
    "def create_sophistication_index(input_df):\n",
    "    max_ = input_df.num_unique.max()\n",
    "    min_ = input_df.num_unique.min()\n",
    "    input_df['num_unique_normalized'] = (input_df.num_unique - min_)/(max_ - min_)\n",
    "    input_df['sophistication_index'] = input_df['num_unique_normalized'] * (1 - input_df.AverageSimilarity)\n",
    "    return input_df"
   ]
  },
  {
   "cell_type": "code",
   "execution_count": null,
   "id": "f249a683",
   "metadata": {},
   "outputs": [],
   "source": [
    "df = create_sophistication_index(df)"
   ]
  },
  {
   "cell_type": "code",
   "execution_count": null,
   "id": "5768ef14",
   "metadata": {
    "scrolled": true
   },
   "outputs": [],
   "source": [
    "df_cand = create_sophistication_index(df_cand)\n",
    "df_cost = create_sophistication_index(df_cost)\n",
    "df_cand_cost = create_sophistication_index(df_cand_cost)"
   ]
  },
  {
   "cell_type": "markdown",
   "id": "2d208e64",
   "metadata": {},
   "source": [
    "## Regression"
   ]
  },
  {
   "cell_type": "code",
   "execution_count": null,
   "id": "527fb5f0",
   "metadata": {},
   "outputs": [],
   "source": [
    "import statsmodels.api as sm"
   ]
  },
  {
   "cell_type": "markdown",
   "id": "dc7e3b1c",
   "metadata": {},
   "source": [
    "### New DV"
   ]
  },
  {
   "cell_type": "code",
   "execution_count": null,
   "id": "258155ca",
   "metadata": {},
   "outputs": [],
   "source": [
    "rename_labels = {'senate': 'Senate', 'race_competitiveness': 'Race competitiveness', \n",
    "                  'third_party': 'Third party', 'image': 'Image',\n",
    "                 'log_estimated_cost': 'TV ad spending (logged)', \n",
    "                 'party': 'Party', 'group': 'Group', \n",
    "                 'other_sponsor_type': 'Other sponsor type'}"
   ]
  },
  {
   "cell_type": "code",
   "execution_count": null,
   "id": "b7e988cc",
   "metadata": {},
   "outputs": [],
   "source": [
    "# for house/senate candidates only \n",
    "form1 = \"sophistication_index ~ senate + race_competitiveness \\\n",
    "        + Democratic + third_party + image\"\n",
    "\n",
    "form2 = \"sophistication_index ~ senate + race_competitiveness \\\n",
    "        + Democratic + third_party + log_estimated_cost \\\n",
    "        + image\"\n",
    "\n",
    "model1 = smf.ols(formula=form1, data=df_cand).fit()\n",
    "model2 = smf.ols(formula=form2, data=df_cand_cost).fit()"
   ]
  },
  {
   "cell_type": "code",
   "execution_count": null,
   "id": "db512066",
   "metadata": {
    "scrolled": true
   },
   "outputs": [],
   "source": [
    "# DV Sophistication index, Candidates Only\n",
    "cov_order = ['senate', 'race_competitiveness',\n",
    "             'Democratic', 'third_party', 'log_estimated_cost', \n",
    "             'image', 'Intercept'] \n",
    "\n",
    "stargazer = Stargazer([model1, model2])\n",
    "stargazer.covariate_order(cov_order)\n",
    "stargazer.rename_covariates(rename_labels)\n",
    "display(HTML(stargazer.render_html()))"
   ]
  },
  {
   "cell_type": "code",
   "execution_count": null,
   "id": "b4324123",
   "metadata": {},
   "outputs": [],
   "source": [
    "# for all sponsors, non-campaign sponsors grouped by race \n",
    "form3 = \"sophistication_index ~ senate + party + group + other_sponsor_type + race_competitiveness \\\n",
    "        + Democratic + third_party + image\"\n",
    "\n",
    "form4 = \"sophistication_index ~ senate + party + group + other_sponsor_type + race_competitiveness \\\n",
    "        + Democratic + third_party + log_estimated_cost \\\n",
    "        + image\"\n",
    "\n",
    "model3 = smf.ols(formula=form3, data=df).fit()\n",
    "model4 = smf.ols(formula=form4, data=df_cost).fit()"
   ]
  },
  {
   "cell_type": "code",
   "execution_count": null,
   "id": "36a107ad",
   "metadata": {
    "scrolled": true
   },
   "outputs": [],
   "source": [
    "# DV Sophistication index, Candidates + non-candidates grouped by race of focus\n",
    "cov_order = ['senate', 'party', 'group', 'other_sponsor_type', 'race_competitiveness',\n",
    "             'Democratic', 'third_party', 'log_estimated_cost', \n",
    "             'image', 'Intercept'] \n",
    "\n",
    "stargazer = Stargazer([model3, model4])\n",
    "stargazer.covariate_order(cov_order)\n",
    "stargazer.rename_covariates(rename_labels)\n",
    "display(HTML(stargazer.render_html()))"
   ]
  },
  {
   "cell_type": "markdown",
   "id": "50df4756",
   "metadata": {},
   "source": [
    "## Main effects plots"
   ]
  },
  {
   "cell_type": "code",
   "execution_count": null,
   "id": "502d8202",
   "metadata": {},
   "outputs": [],
   "source": [
    "import matplotlib.pyplot as plt\n",
    "import seaborn as sns\n",
    "import matplotlib.lines as mlines"
   ]
  },
  {
   "cell_type": "code",
   "execution_count": null,
   "id": "6d67cb46",
   "metadata": {},
   "outputs": [],
   "source": [
    "def plot_coefficents(m1, m2, offset=-0.15):\n",
    "    '''\n",
    "    Generate a coefficients plot given two models\n",
    "    \n",
    "    Inputs: \n",
    "          m1, m2: two OLS regression models\n",
    "          offset: display distance between results from two models on the axes\n",
    "    '''\n",
    "    coefficients1 = m1.params\n",
    "    conf1 = m1.conf_int()\n",
    "    conf1['coef'] = coefficients1\n",
    "    conf1.columns = ['lower', 'upper', 'coef']\n",
    "    conf1['model'] = 'Model 1'\n",
    "\n",
    "    coefficients2 = m2.params\n",
    "    conf2 = m2.conf_int()\n",
    "    conf2['coef'] = coefficients2\n",
    "    conf2.columns = ['lower', 'upper', 'coef']\n",
    "    conf2['model'] = 'Model 2'\n",
    "    \n",
    "    conf12 = pd.concat([conf1, conf2])\n",
    "    conf12.rename(index=rename_labels, inplace=True)\n",
    "    conf12 = conf12[conf12.index != 'Intercept']\n",
    "    \n",
    "    # Add offset to separate the models\n",
    "    conf12['y_offset'] = conf12.groupby(conf12.index).cumcount() * offset\n",
    "    \n",
    "    labels = list(conf12.index.unique()[::-1])\n",
    "\n",
    "    y_steps = {}\n",
    "    for i, label in enumerate(labels):\n",
    "        y_steps[label] = i\n",
    "\n",
    "    conf12['y_step'] = conf12.index.map(y_steps)\n",
    "    \n",
    "    # Plotting\n",
    "    plt.figure(figsize=(10, 8))\n",
    "    fig, ax = plt.subplots()\n",
    "\n",
    "    colors=['black', 'gray']\n",
    "\n",
    "    for i, model in enumerate(conf12.model.unique()):\n",
    "        curr_coef = conf12[conf12.model == model]\n",
    "        ax.errorbar(y=curr_coef['y_offset'] + curr_coef['y_step'], \n",
    "                     x=curr_coef['coef'], \n",
    "                     xerr=(curr_coef['upper'] - curr_coef['lower']) / 2, \n",
    "                     fmt='o', \n",
    "                     color=colors[i])\n",
    "\n",
    "\n",
    "\n",
    "    # Create legend\n",
    "    handle1 = mlines.Line2D([], [], color='black', linestyle='-', marker='o', markersize=4, label='Model 1')\n",
    "    handle2 = mlines.Line2D([], [], color='gray', linestyle='-', marker='o', markersize=4, label='Model 2')\n",
    "    ax.legend(handles=[handle1, handle2], loc='best')\n",
    "\n",
    "    # Format yticks labels and other labels\n",
    "    plt.yticks(ticks=range(len(labels)), labels=labels)\n",
    "    plt.title('')\n",
    "    plt.ylabel('Predictor')\n",
    "    plt.xlabel('Coefficient')\n",
    "    plt.axvline(0, color='grey', linestyle='--')\n",
    "    plt.show()"
   ]
  },
  {
   "cell_type": "code",
   "execution_count": null,
   "id": "f149ec81",
   "metadata": {
    "scrolled": true
   },
   "outputs": [],
   "source": [
    "plot_coefficents(model1, model2)"
   ]
  },
  {
   "cell_type": "code",
   "execution_count": null,
   "id": "93a332fa",
   "metadata": {
    "scrolled": true
   },
   "outputs": [],
   "source": [
    "plot_coefficents(model3, model4,offset=-0.25)"
   ]
  }
 ],
 "metadata": {
  "kernelspec": {
   "display_name": "Python 3 (ipykernel)",
   "language": "python",
   "name": "python3"
  },
  "language_info": {
   "codemirror_mode": {
    "name": "ipython",
    "version": 3
   },
   "file_extension": ".py",
   "mimetype": "text/x-python",
   "name": "python",
   "nbconvert_exporter": "python",
   "pygments_lexer": "ipython3",
   "version": "3.11.4"
  }
 },
 "nbformat": 4,
 "nbformat_minor": 5
}
