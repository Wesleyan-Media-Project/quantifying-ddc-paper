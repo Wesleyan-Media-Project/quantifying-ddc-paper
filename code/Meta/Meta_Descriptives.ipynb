{
 "cells": [
  {
   "cell_type": "code",
   "execution_count": null,
   "id": "f1557991",
   "metadata": {},
   "outputs": [],
   "source": [
    "import os\n",
    "import numpy as np\n",
    "import pandas as pd\n",
    "import matplotlib.pyplot as plt\n",
    "import seaborn as sns"
   ]
  },
  {
   "cell_type": "code",
   "execution_count": null,
   "id": "c8bc7f87",
   "metadata": {},
   "outputs": [],
   "source": [
    "source_path = '' # Define local data import path"
   ]
  },
  {
   "cell_type": "code",
   "execution_count": null,
   "id": "b3703973",
   "metadata": {
    "scrolled": true
   },
   "outputs": [],
   "source": [
    "var = pd.read_csv(os.path.join(source_path, 'fb_2022_adid_var.csv.gz'))"
   ]
  },
  {
   "cell_type": "code",
   "execution_count": null,
   "id": "c5762587",
   "metadata": {},
   "outputs": [],
   "source": [
    "# Set3\n",
    "var = var.loc[var.set3 == 1]"
   ]
  },
  {
   "cell_type": "code",
   "execution_count": null,
   "id": "7571a155",
   "metadata": {},
   "outputs": [],
   "source": [
    "text = pd.read_csv(os.path.join(source_path, 'fb_2022_adid_text.csv.gz'))"
   ]
  },
  {
   "cell_type": "code",
   "execution_count": null,
   "id": "842f2e34",
   "metadata": {},
   "outputs": [],
   "source": [
    "var = var.merge(text, how='left', on='ad_id')"
   ]
  },
  {
   "cell_type": "code",
   "execution_count": null,
   "id": "906c5b1c",
   "metadata": {
    "scrolled": true
   },
   "outputs": [],
   "source": [
    "var.columns"
   ]
  },
  {
   "cell_type": "code",
   "execution_count": null,
   "id": "aa7026a2",
   "metadata": {},
   "outputs": [],
   "source": [
    "'''''\n",
    "Regression table: WMP Set 3 (sponsor-media level)\n",
    "'''''\n",
    "df = pd.read_csv(\"../input_data/fb_regression_table_for_descriptives.csv\")"
   ]
  },
  {
   "cell_type": "code",
   "execution_count": null,
   "id": "6728f72f",
   "metadata": {},
   "outputs": [],
   "source": [
    "df.columns"
   ]
  },
  {
   "cell_type": "code",
   "execution_count": null,
   "id": "8d026c14",
   "metadata": {},
   "outputs": [],
   "source": [
    "len(df.pd_id.unique()) # All unique sponsors"
   ]
  },
  {
   "cell_type": "code",
   "execution_count": null,
   "id": "95ba427d",
   "metadata": {},
   "outputs": [],
   "source": [
    "len(df.dropna(subset='log_estimated_cost').pd_id.unique()) # Number of sponsors who invested in TV ads"
   ]
  },
  {
   "cell_type": "code",
   "execution_count": null,
   "id": "291bc220",
   "metadata": {},
   "outputs": [],
   "source": [
    "df_cand = df[df.candidate == 1]\n",
    "print(df_cand.shape)"
   ]
  },
  {
   "cell_type": "code",
   "execution_count": null,
   "id": "84731ae1",
   "metadata": {},
   "outputs": [],
   "source": [
    "df.AverageSimilarity.mean()"
   ]
  },
  {
   "cell_type": "code",
   "execution_count": null,
   "id": "fa79dda5",
   "metadata": {
    "scrolled": true
   },
   "outputs": [],
   "source": [
    "# DV\n",
    "sns.set_theme(style='ticks', palette=\"tab10\")\n",
    "\n",
    "sns.histplot(df.AverageSimilarity, kde=True, bins=40, color='gray', line_kws={'color': 'gray'})"
   ]
  },
  {
   "cell_type": "code",
   "execution_count": null,
   "id": "ead8b1b2",
   "metadata": {
    "scrolled": true
   },
   "outputs": [],
   "source": [
    "sns.histplot(df_cand.AverageSimilarity, kde=True, bins=40, color='gray')"
   ]
  },
  {
   "cell_type": "code",
   "execution_count": null,
   "id": "f0dec12d",
   "metadata": {},
   "outputs": [],
   "source": [
    "df = df.merge(var[['pd_id', 'page_name', 'disclaimer']].drop_duplicates(), how='left', on='pd_id')"
   ]
  },
  {
   "cell_type": "code",
   "execution_count": null,
   "id": "1f3266e1",
   "metadata": {},
   "outputs": [],
   "source": [
    "df.AverageSimilarity.mean()"
   ]
  },
  {
   "cell_type": "code",
   "execution_count": null,
   "id": "094e9c16",
   "metadata": {},
   "outputs": [],
   "source": [
    "df_agg = df.groupby(['pd_id']).agg({'page_name': 'first', 'disclaimer': 'first', 'num_unique': 'sum'}).reset_index() "
   ]
  },
  {
   "cell_type": "code",
   "execution_count": null,
   "id": "7acbcb09",
   "metadata": {},
   "outputs": [],
   "source": [
    "df_agg.num_unique.mean()"
   ]
  },
  {
   "cell_type": "code",
   "execution_count": null,
   "id": "f16698eb",
   "metadata": {},
   "outputs": [],
   "source": [
    "df_agg.num_unique.median()"
   ]
  },
  {
   "cell_type": "code",
   "execution_count": null,
   "id": "35ebf2f2",
   "metadata": {
    "scrolled": true
   },
   "outputs": [],
   "source": [
    "df_agg.sort_values(by='num_unique', ascending=False).head(40)"
   ]
  },
  {
   "cell_type": "code",
   "execution_count": null,
   "id": "d8b4bfbe",
   "metadata": {
    "scrolled": true
   },
   "outputs": [],
   "source": [
    "# aggregated num_unique histogram (sponsor level)\n",
    "g = sns.histplot(df_agg.num_unique, kde=True, bins=200, color='gray')\n",
    "g.set(title='Number of unique creatives at the sponsor level\\n\\nMeta', xlabel='')\n",
    "plt.xlim((0, 100))"
   ]
  },
  {
   "cell_type": "markdown",
   "id": "32db7c1b",
   "metadata": {},
   "source": [
    "## Table to display in the draft"
   ]
  },
  {
   "cell_type": "code",
   "execution_count": null,
   "id": "ca9c6557",
   "metadata": {},
   "outputs": [],
   "source": [
    "from IPython.display import display, HTML"
   ]
  },
  {
   "cell_type": "code",
   "execution_count": null,
   "id": "5d5645de",
   "metadata": {},
   "outputs": [],
   "source": [
    "df_cand = df[df.candidate == 1]\n",
    "df_cand.shape"
   ]
  },
  {
   "cell_type": "code",
   "execution_count": null,
   "id": "3a07fd0d",
   "metadata": {},
   "outputs": [],
   "source": [
    "df_cand[\"sponsor\"] = df_cand.disclaimer.str.upper()"
   ]
  },
  {
   "cell_type": "code",
   "execution_count": null,
   "id": "32cf7637",
   "metadata": {},
   "outputs": [],
   "source": [
    "def create_sophistication_index(input_df):\n",
    "    max_ = input_df.num_unique.max()\n",
    "    min_ = input_df.num_unique.min()\n",
    "    input_df['num_unique_normalized'] = (input_df.num_unique - min_)/(max_ - min_)\n",
    "    input_df['sophistication_index'] = input_df['num_unique_normalized'] * (1 - input_df.AverageSimilarity)\n",
    "    return input_df"
   ]
  },
  {
   "cell_type": "code",
   "execution_count": null,
   "id": "a5d6674d",
   "metadata": {},
   "outputs": [],
   "source": [
    "df_cand = create_sophistication_index(df_cand)"
   ]
  },
  {
   "cell_type": "code",
   "execution_count": null,
   "id": "d2fa9878",
   "metadata": {},
   "outputs": [],
   "source": [
    "df_cand.drop_duplicates(inplace=True)"
   ]
  },
  {
   "cell_type": "code",
   "execution_count": null,
   "id": "dbf74bb2",
   "metadata": {
    "scrolled": true
   },
   "outputs": [],
   "source": [
    "df_cand['sponsor'] = df_cand.sponsor.str.title()\n",
    "df_cand['wmp_media_type'] = df_cand.wmp_media_type.str.title()\n",
    "df_cand['AverageSimilarity'] = df_cand.AverageSimilarity.round(3)\n",
    "df_cand['sophistication_index'] = df_cand.sophistication_index.round(3)"
   ]
  },
  {
   "cell_type": "code",
   "execution_count": null,
   "id": "4ed9a6f1",
   "metadata": {
    "scrolled": true
   },
   "outputs": [],
   "source": [
    "cols2display = ['sponsor', 'sophistication_index', 'wmp_media_type', 'num_unique', 'AverageSimilarity']\n",
    "\n",
    "rename_dict = {'sponsor': 'Sponsor', 'sophistication_index': 'Sophistication index',\n",
    "              'wmp_media_type': 'Media type', 'num_unique': 'Unique creatives', \n",
    "               'AverageSimilarity': 'Average text similarity'}\n",
    "\n",
    "display_df = df_cand[cols2display].sort_values(by='sophistication_index', ascending=False).drop_duplicates().head(20)\n",
    "\n",
    "display_df.rename(columns=rename_dict, inplace=True)\n",
    "\n",
    "display(HTML(display_df.to_html(index=False)))"
   ]
  }
 ],
 "metadata": {
  "kernelspec": {
   "display_name": "Python 3 (ipykernel)",
   "language": "python",
   "name": "python3"
  },
  "language_info": {
   "codemirror_mode": {
    "name": "ipython",
    "version": 3
   },
   "file_extension": ".py",
   "mimetype": "text/x-python",
   "name": "python",
   "nbconvert_exporter": "python",
   "pygments_lexer": "ipython3",
   "version": "3.11.4"
  }
 },
 "nbformat": 4,
 "nbformat_minor": 5
}
