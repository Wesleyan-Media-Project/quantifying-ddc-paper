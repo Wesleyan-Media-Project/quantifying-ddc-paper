{
 "cells": [
  {
   "cell_type": "code",
   "execution_count": null,
   "id": "eea7a344",
   "metadata": {},
   "outputs": [],
   "source": [
    "import os\n",
    "import numpy as np\n",
    "import pandas as pd\n",
    "import json\n",
    "import itertools\n",
    "import pickle\n",
    "import matplotlib.pyplot as plt\n",
    "import torch\n",
    "from sentence_transformers import SentenceTransformer, util"
   ]
  },
  {
   "cell_type": "markdown",
   "id": "6897974e",
   "metadata": {},
   "source": [
    "## Prepare data"
   ]
  },
  {
   "cell_type": "markdown",
   "id": "60aaef87",
   "metadata": {},
   "source": [
    "### Selecte data relevant to federal races"
   ]
  },
  {
   "cell_type": "code",
   "execution_count": null,
   "id": "be1330fa",
   "metadata": {},
   "outputs": [],
   "source": [
    "source_path = '' # Define local data import path"
   ]
  },
  {
   "cell_type": "code",
   "execution_count": null,
   "id": "2e549ff0",
   "metadata": {},
   "outputs": [],
   "source": [
    "var = pd.read_csv(os.path.join(source_path, 'fb_2022_adid_var.csv.gz'))"
   ]
  },
  {
   "cell_type": "code",
   "execution_count": null,
   "id": "0aa2c465",
   "metadata": {
    "scrolled": true
   },
   "outputs": [],
   "source": [
    "var.columns"
   ]
  },
  {
   "cell_type": "code",
   "execution_count": null,
   "id": "c5cfa34a",
   "metadata": {},
   "outputs": [],
   "source": [
    "'''\n",
    "Filter for Set 3\n",
    "'''\n",
    "var = var[var.set3 == 1]"
   ]
  },
  {
   "cell_type": "code",
   "execution_count": null,
   "id": "9506317d",
   "metadata": {},
   "outputs": [],
   "source": [
    "var[~var.race_of_focus.isin(['No race of focus', 'Downballot'])].sub_bucket.unique()"
   ]
  },
  {
   "cell_type": "code",
   "execution_count": null,
   "id": "e579a31f",
   "metadata": {},
   "outputs": [],
   "source": [
    "'''\n",
    "Only house/senate races \n",
    "'''\n",
    "condition = (var.wmp_office.isin(['us senate', 'us house'])) | (~var.race_of_focus.isin(['No race of focus', 'Downballot']))"
   ]
  },
  {
   "cell_type": "code",
   "execution_count": null,
   "id": "46bdf63d",
   "metadata": {},
   "outputs": [],
   "source": [
    "var = var[condition]"
   ]
  },
  {
   "cell_type": "code",
   "execution_count": null,
   "id": "d064472e",
   "metadata": {},
   "outputs": [],
   "source": [
    "'''\n",
    "Merge with text and cid mapping tables\n",
    "'''\n",
    "text = pd.read_csv(os.path.join(source_path, 'fb_2022_adid_text.csv.gz'))"
   ]
  },
  {
   "cell_type": "code",
   "execution_count": null,
   "id": "da01f781",
   "metadata": {},
   "outputs": [],
   "source": [
    "var = var.merge(text, how='left', on='ad_id')"
   ]
  },
  {
   "cell_type": "code",
   "execution_count": null,
   "id": "188ae955",
   "metadata": {},
   "outputs": [],
   "source": [
    "'''\n",
    "Drop clearly non-federal race spnosors\n",
    "'''\n",
    "var = var[var.wmp_spontype!= 'down ballot']"
   ]
  },
  {
   "cell_type": "markdown",
   "id": "28e7489a",
   "metadata": {},
   "source": [
    "### Aggregate data at sponsor-media level"
   ]
  },
  {
   "cell_type": "markdown",
   "id": "b33f4174",
   "metadata": {},
   "source": [
    "#### Federal candidates"
   ]
  },
  {
   "cell_type": "code",
   "execution_count": null,
   "id": "06bccced",
   "metadata": {},
   "outputs": [],
   "source": [
    "var_cand = var[var.federal_cd==1]"
   ]
  },
  {
   "cell_type": "code",
   "execution_count": null,
   "id": "bb028f62",
   "metadata": {},
   "outputs": [],
   "source": [
    "cols = ['pd_id', 'wmp_media_type', 'wmp_creative_id']"
   ]
  },
  {
   "cell_type": "code",
   "execution_count": null,
   "id": "a5ecf09e",
   "metadata": {},
   "outputs": [],
   "source": [
    "# Aggregate by pdid AND media type\n",
    "cand_sponsor_agg = var_cand[cols].groupby(cols).first().reset_index().groupby(['pd_id', 'wmp_media_type']).agg(lambda x: ' '.join(x)).reset_index()"
   ]
  },
  {
   "cell_type": "code",
   "execution_count": null,
   "id": "bb21226a",
   "metadata": {},
   "outputs": [],
   "source": [
    "cand_sponsor_agg.head(2)"
   ]
  },
  {
   "cell_type": "code",
   "execution_count": null,
   "id": "1a134869",
   "metadata": {},
   "outputs": [],
   "source": [
    "cand_sponsor_agg['num_unique'] = cand_sponsor_agg.cid.apply(lambda x: len(x.split()))"
   ]
  },
  {
   "cell_type": "code",
   "execution_count": null,
   "id": "b64cc523",
   "metadata": {},
   "outputs": [],
   "source": [
    "cand_sponsor_agg = cand_sponsor_agg[cand_sponsor_agg.num_unique > 1]"
   ]
  },
  {
   "cell_type": "code",
   "execution_count": null,
   "id": "ba6628ed",
   "metadata": {
    "scrolled": true
   },
   "outputs": [],
   "source": [
    "var_cand.wmp_spontype.unique()"
   ]
  },
  {
   "cell_type": "markdown",
   "id": "22fc5d19",
   "metadata": {},
   "source": [
    "#### Non-campaign sponsors: Advertiser-media-race_of_focuse-level aggregation"
   ]
  },
  {
   "cell_type": "code",
   "execution_count": null,
   "id": "d7c7a8dd",
   "metadata": {},
   "outputs": [],
   "source": [
    "var[var.federal_cd == 0].wmp_spontype.unique()"
   ]
  },
  {
   "cell_type": "code",
   "execution_count": null,
   "id": "241a63aa",
   "metadata": {},
   "outputs": [],
   "source": [
    "var[var.federal_cd == 0].wmp_office.unique()"
   ]
  },
  {
   "cell_type": "code",
   "execution_count": null,
   "id": "bc302aa9",
   "metadata": {},
   "outputs": [],
   "source": [
    "'''\n",
    "filter irrelevant offices among non-campaign sponsors\n",
    "'''\n",
    "irrelevant_offices = ['us house - other cycle', 'us senate - other cycle', 'down ballot', \n",
    " 'president - other cycle', 'ballot measure', 'election outside US or in US comm/territory', 'governor']\n",
    "condition3 = (var.federal_cd == 0) & (~var.wmp_office.isin(irrelevant_offices))\n",
    "\n",
    "var_noncand = var[condition3]"
   ]
  },
  {
   "cell_type": "code",
   "execution_count": null,
   "id": "e8faf6e0",
   "metadata": {},
   "outputs": [],
   "source": [
    "'''\n",
    "Remove those with no race of focus identified\n",
    "'''\n",
    "var_noncand = var_noncand[~pd.isna(var_noncand.race_of_focus)]\n",
    "var_noncand = var_noncand[var_noncand.race_of_focus != 'No race of focus']"
   ]
  },
  {
   "cell_type": "code",
   "execution_count": null,
   "id": "ed53f9e2",
   "metadata": {},
   "outputs": [],
   "source": [
    "'''\n",
    "Aggregate at sponsor-media-race level\n",
    "'''\n",
    "cols2 = ['pd_id', 'wmp_creative_id', 'race_of_focus', 'wmp_media_type']"
   ]
  },
  {
   "cell_type": "code",
   "execution_count": null,
   "id": "1c63e6bd",
   "metadata": {},
   "outputs": [],
   "source": [
    "'''\n",
    "Agg by pdid AND media type AND race of focus\n",
    "'''\n",
    "noncand_sponsor_agg = var_noncand[cols2].groupby(['pd_id', 'wmp_creative_id', 'race_of_focus']).first().reset_index()\\\n",
    ".groupby(['pd_id', 'race_of_focus', 'wmp_media_type']).agg(lambda x: ' '.join(x)).reset_index()"
   ]
  },
  {
   "cell_type": "code",
   "execution_count": null,
   "id": "8cdb5c70",
   "metadata": {},
   "outputs": [],
   "source": [
    "noncand_sponsor_agg.head(2)"
   ]
  },
  {
   "cell_type": "code",
   "execution_count": null,
   "id": "17e4c790",
   "metadata": {},
   "outputs": [],
   "source": [
    "noncand_sponsor_agg['num_unique'] = noncand_sponsor_agg.cid.apply(lambda x: len(x.split()))\n",
    "\n",
    "# filter for sponsors with at least a pair of unique creatives\n",
    "noncand_sponsor_agg = noncand_sponsor_agg[noncand_sponsor_agg.num_unique > 1]"
   ]
  },
  {
   "cell_type": "code",
   "execution_count": null,
   "id": "a526dd8c",
   "metadata": {},
   "outputs": [],
   "source": [
    "noncand_sponsor_agg.shape"
   ]
  },
  {
   "cell_type": "markdown",
   "id": "fdd22b16",
   "metadata": {},
   "source": [
    "### Import trained corpous embedding and compute average similarity"
   ]
  },
  {
   "cell_type": "code",
   "execution_count": null,
   "id": "bddcd669",
   "metadata": {},
   "outputs": [],
   "source": [
    "corpus_embeddings = torch.load('../input_data/corpus_embedding_fb2022_uni.pt', map_location=torch.device('cpu'))"
   ]
  },
  {
   "cell_type": "code",
   "execution_count": null,
   "id": "aff45606",
   "metadata": {},
   "outputs": [],
   "source": [
    "corpus_embeddings.shape\n",
    "# corpus embedding index aligned with ascending cid index starting from 0 "
   ]
  },
  {
   "cell_type": "code",
   "execution_count": null,
   "id": "671f3af5",
   "metadata": {},
   "outputs": [],
   "source": [
    "def compute_avg_similarity(cid_lst):\n",
    "    cid_lst = cid_lst.split()\n",
    "    \n",
    "    pairs = list(itertools.combinations(cid_lst, 2))\n",
    "    if pairs:\n",
    "        scores = []\n",
    "        for pair in pairs: \n",
    "            cid1, cid2 = pair\n",
    "            idx1 = int(cid1.lstrip('cid_'))\n",
    "            idx2 = int(cid2.lstrip('cid_'))\n",
    "            \n",
    "            score = util.cos_sim(corpus_embeddings[idx1], corpus_embeddings[idx2])[0][0].numpy()\n",
    "            scores.append(score)\n",
    "        return np.array(scores).mean(), np.array(scores).std()\n",
    "    return None"
   ]
  },
  {
   "cell_type": "markdown",
   "id": "e162b0e9",
   "metadata": {},
   "source": [
    "### Federal candidates: by advertiser and media type¶"
   ]
  },
  {
   "cell_type": "code",
   "execution_count": null,
   "id": "2fc53f85",
   "metadata": {},
   "outputs": [],
   "source": [
    "cand_sponsor_agg.loc[:, ['avg', 'std']] = cand_sponsor_agg.cid.apply(lambda x: pd.Series(compute_avg_similarity(x), index=['avg', 'std'], dtype=\"float\"))"
   ]
  },
  {
   "cell_type": "code",
   "execution_count": null,
   "id": "abeba856",
   "metadata": {},
   "outputs": [],
   "source": [
    "cand_sponsor_agg.head(4)"
   ]
  },
  {
   "cell_type": "code",
   "execution_count": null,
   "id": "3e3d7a95",
   "metadata": {},
   "outputs": [],
   "source": [
    "'''\n",
    "Save staging table for regression analysis: Candidates only\n",
    "'''\n",
    "\n",
    "cand_sponsor_agg.to_csv('../output_data/fb_set3_cand_pdid_media_average_pairwise_similarity.csv', index=False)"
   ]
  },
  {
   "cell_type": "markdown",
   "id": "9bf74c10",
   "metadata": {},
   "source": [
    "### non-campaign candidate sponsors: by sponsor - media - race of focus\n"
   ]
  },
  {
   "cell_type": "code",
   "execution_count": null,
   "id": "81e19b00",
   "metadata": {},
   "outputs": [],
   "source": [
    "noncand_sponsor_agg.loc[:, ['avg', 'std']] = noncand_sponsor_agg.cid.apply(lambda x: pd.Series(compute_avg_similarity(x), index=['avg', 'std'], dtype=\"float\"))"
   ]
  },
  {
   "cell_type": "code",
   "execution_count": null,
   "id": "03e3fa50",
   "metadata": {},
   "outputs": [],
   "source": [
    "'''\n",
    "Save staging table for regression analysis: Non-candidates grouped by race of focus\n",
    "'''\n",
    "noncand_sponsor_agg.to_csv('../output_data/fb_set3_noncandidate_pdid_racefocus_media_average_pairwise_similarity.csv', index=False)"
   ]
  }
 ],
 "metadata": {
  "kernelspec": {
   "display_name": "Python 3 (ipykernel)",
   "language": "python",
   "name": "python3"
  },
  "language_info": {
   "codemirror_mode": {
    "name": "ipython",
    "version": 3
   },
   "file_extension": ".py",
   "mimetype": "text/x-python",
   "name": "python",
   "nbconvert_exporter": "python",
   "pygments_lexer": "ipython3",
   "version": "3.11.4"
  }
 },
 "nbformat": 4,
 "nbformat_minor": 5
}
